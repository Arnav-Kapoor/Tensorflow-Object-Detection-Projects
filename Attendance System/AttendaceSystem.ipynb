{
 "cells": [
  {
   "cell_type": "code",
   "execution_count": 2,
   "id": "73fc3b2d-3806-4e0d-b010-f14470053d67",
   "metadata": {},
   "outputs": [],
   "source": [
    "import tensorflow as tf\n",
    "import cv2\n",
    "import os"
   ]
  },
  {
   "cell_type": "code",
   "execution_count": 3,
   "id": "3a33f219-657c-4b44-b580-c99ad36095e1",
   "metadata": {},
   "outputs": [],
   "source": [
    "import numpy as np"
   ]
  },
  {
   "cell_type": "code",
   "execution_count": 4,
   "id": "1fc291c3-6fb9-468e-817f-e5b3d3ef5e34",
   "metadata": {},
   "outputs": [],
   "source": [
    "face_cascade=cv2.CascadeClassifier('haarcascade_frontalface_default.xml')"
   ]
  },
  {
   "cell_type": "markdown",
   "id": "8f4be38a-85ab-42ca-a217-b99826d127b6",
   "metadata": {},
   "source": [
    "#### Testing"
   ]
  },
  {
   "cell_type": "code",
   "execution_count": 193,
   "id": "65fbcbc4-3afe-49c0-ab9e-7a750240f721",
   "metadata": {},
   "outputs": [],
   "source": [
    "cap=cv2.VideoCapture(0)\n",
    "while True:\n",
    "    ret,frame=cap.read()\n",
    "    if ret:\n",
    "        # cv2.rectangle(frame,(140,50),(500,400),(0,0,255),2)\n",
    "        gray=cv2.cvtColor(frame,cv2.COLOR_BGR2GRAY)\n",
    "        faces=face_cascade.detectMultiScale(gray,scaleFactor=1.3,minNeighbors=3)\n",
    "        # a=0,b=0,c=0,d=0\n",
    "        for (x,y,w,h) in faces:\n",
    "            cv2.rectangle(frame,(x,y),(x+w,y+h),(255,255,255),2)\n",
    "            # a=x,b=y,c=w,d=h\n",
    "        cv2.imshow(\"test\",frame[140:500,50:400])\n",
    "        if cv2.waitKey(1) & 0xFF==ord('q'):\n",
    "            break\n",
    "cap.release()\n",
    "cv2.destroyAllWindows()\n"
   ]
  },
  {
   "cell_type": "code",
   "execution_count": 190,
   "id": "85b5023f-a90f-48ee-8e7c-e6167a875f48",
   "metadata": {},
   "outputs": [],
   "source": [
    "cap.release()"
   ]
  },
  {
   "cell_type": "code",
   "execution_count": 5,
   "id": "cc22e4fe-7abd-40b3-968f-d01235a6f471",
   "metadata": {},
   "outputs": [],
   "source": [
    "#creating tf data pipeline\n",
    "images=tf.data.Dataset.from_tensor_slices(tf.io.gfile.glob(\"images/*.jpg\")[:700])"
   ]
  },
  {
   "cell_type": "code",
   "execution_count": 6,
   "id": "ff146bc7-5eb0-4011-a952-7cefeda0ab10",
   "metadata": {},
   "outputs": [
    {
     "data": {
      "text/plain": [
       "700"
      ]
     },
     "execution_count": 6,
     "metadata": {},
     "output_type": "execute_result"
    }
   ],
   "source": [
    "len(images)"
   ]
  },
  {
   "cell_type": "code",
   "execution_count": 6,
   "id": "dd967f26-3c10-4407-aae0-bba22558bc49",
   "metadata": {},
   "outputs": [],
   "source": [
    "# images=images.take(round(len(images)*.5))"
   ]
  },
  {
   "cell_type": "code",
   "execution_count": 7,
   "id": "dbb083f5-098f-4b26-82ca-e223ef444a97",
   "metadata": {},
   "outputs": [
    {
     "data": {
      "text/plain": [
       "<_TensorSliceDataset element_spec=TensorSpec(shape=(), dtype=tf.string, name=None)>"
      ]
     },
     "execution_count": 7,
     "metadata": {},
     "output_type": "execute_result"
    }
   ],
   "source": [
    "images"
   ]
  },
  {
   "cell_type": "code",
   "execution_count": 8,
   "id": "992e9d11-8394-41ce-81f1-0e21cc3823fd",
   "metadata": {},
   "outputs": [],
   "source": [
    "# len(images)"
   ]
  },
  {
   "cell_type": "code",
   "execution_count": 9,
   "id": "3ec4f7cd-0338-43d7-adaf-fee5aa11386f",
   "metadata": {},
   "outputs": [
    {
     "data": {
      "text/plain": [
       "b'images\\\\Aaron_Eckhart_0001.jpg'"
      ]
     },
     "execution_count": 9,
     "metadata": {},
     "output_type": "execute_result"
    }
   ],
   "source": [
    "images.as_numpy_iterator().next()"
   ]
  },
  {
   "cell_type": "code",
   "execution_count": 8,
   "id": "1ad6fb97-bc19-4c6a-8959-c671ae3cf229",
   "metadata": {},
   "outputs": [],
   "source": [
    "#preprocessing image\n",
    "def load_image(x):\n",
    "    byte_image=tf.io.read_file(x)\n",
    "    img=tf.io.decode_jpeg(byte_image)\n",
    "    img=tf.image.resize(img,(200,200))\n",
    "    img=img/255.0\n",
    "    return img"
   ]
  },
  {
   "cell_type": "code",
   "execution_count": 176,
   "id": "ac01ce90-994f-4b14-b772-d2c31fcdf01f",
   "metadata": {},
   "outputs": [],
   "source": [
    "data=tf.data.Dataset.zip((images,tf.data.Dataset.from_tensor_slices(tf.ones(len(images)))))"
   ]
  },
  {
   "cell_type": "code",
   "execution_count": 10,
   "id": "85a852ba-6c8b-40ac-990d-0ef1502fca43",
   "metadata": {},
   "outputs": [
    {
     "data": {
      "text/plain": [
       "<_ZipDataset element_spec=(TensorSpec(shape=(), dtype=tf.string, name=None), TensorSpec(shape=(), dtype=tf.float32, name=None))>"
      ]
     },
     "execution_count": 10,
     "metadata": {},
     "output_type": "execute_result"
    }
   ],
   "source": [
    "data"
   ]
  },
  {
   "cell_type": "code",
   "execution_count": 12,
   "id": "4931d081-abd0-4ee1-98e4-fb73f7a1261a",
   "metadata": {},
   "outputs": [],
   "source": [
    "sample=data.as_numpy_iterator().next()"
   ]
  },
  {
   "cell_type": "code",
   "execution_count": 13,
   "id": "95a9e9ef-8613-40f6-8a78-0d3cf0f0043b",
   "metadata": {},
   "outputs": [
    {
     "data": {
      "text/plain": [
       "(b'images\\\\Aaron_Eckhart_0001.jpg', 1.0)"
      ]
     },
     "execution_count": 13,
     "metadata": {},
     "output_type": "execute_result"
    }
   ],
   "source": [
    "sample"
   ]
  },
  {
   "cell_type": "code",
   "execution_count": 11,
   "id": "2e2a2563-43fd-4e37-b9e2-910395e03f32",
   "metadata": {},
   "outputs": [],
   "source": [
    "def preprocess(image,label):\n",
    "    return(load_image(image),label)"
   ]
  },
  {
   "cell_type": "code",
   "execution_count": 15,
   "id": "ddc5812b-83ed-4abe-b9f6-7c742c2d34ff",
   "metadata": {},
   "outputs": [],
   "source": [
    "res=preprocess(*sample)"
   ]
  },
  {
   "cell_type": "code",
   "execution_count": 16,
   "id": "babec730-41c0-4378-b3f4-20306537baaf",
   "metadata": {},
   "outputs": [
    {
     "data": {
      "text/plain": [
       "<matplotlib.image.AxesImage at 0x1f14cb5ad70>"
      ]
     },
     "execution_count": 16,
     "metadata": {},
     "output_type": "execute_result"
    },
    {
     "data": {
      "image/png": "[encoded data removed]",
      "text/plain": [
       "<Figure size 640x480 with 1 Axes>"
      ]
     },
     "metadata": {},
     "output_type": "display_data"
    }
   ],
   "source": [
    "import matplotlib.pyplot as plt\n",
    "plt.imshow(res[0])"
   ]
  },
  {
   "cell_type": "code",
   "execution_count": 177,
   "id": "5e3feb48-8d8e-46f2-b7c6-7c18d62e38c2",
   "metadata": {},
   "outputs": [],
   "source": [
    "#build dataloader pipeline\n",
    "data=data.map(preprocess)\n",
    "data=data.cache()\n",
    "data=data.shuffle(buffer_size=100)\n",
    "# data=data.batch(16)\n",
    "# data=data.prefetch(8)"
   ]
  },
  {
   "cell_type": "code",
   "execution_count": 178,
   "id": "d8eeb029-696c-4322-9c50-f71c655624e5",
   "metadata": {},
   "outputs": [],
   "source": [
    "train=data.take(round(len(data)*.8))\n",
    "train=train.batch(16)\n",
    "train=train.prefetch(8)"
   ]
  },
  {
   "cell_type": "code",
   "execution_count": 179,
   "id": "1f0950ff-2adc-4a1e-9477-cb4760d06d9e",
   "metadata": {},
   "outputs": [],
   "source": [
    "val=data.skip(round(len(data)*.8))\n",
    "val=data.take(round(len(data)*.2))\n",
    "val=val.batch(16)\n",
    "val=val.prefetch(8)"
   ]
  },
  {
   "cell_type": "code",
   "execution_count": 165,
   "id": "50f36f82-cf46-407b-bd30-26428219270a",
   "metadata": {},
   "outputs": [
    {
     "data": {
      "text/plain": [
       "(<_PrefetchDataset element_spec=(TensorSpec(shape=(None, 200, 200, None), dtype=tf.float32, name=None), TensorSpec(shape=(None,), dtype=tf.float32, name=None))>,\n",
       " <_PrefetchDataset element_spec=(TensorSpec(shape=(None, 200, 200, None), dtype=tf.float32, name=None), TensorSpec(shape=(None,), dtype=tf.float32, name=None))>)"
      ]
     },
     "execution_count": 165,
     "metadata": {},
     "output_type": "execute_result"
    }
   ],
   "source": [
    "train,val"
   ]
  },
  {
   "cell_type": "markdown",
   "id": "503d0570-e586-4726-b6dd-296142460f3c",
   "metadata": {},
   "source": [
    "### building Feature Extractor model"
   ]
  },
  {
   "cell_type": "code",
   "execution_count": 72,
   "id": "2f34f7e3-f693-444d-a3d9-5c21666a4e47",
   "metadata": {},
   "outputs": [],
   "source": [
    "from tensorflow.keras.layers import Conv2D,Layer,Input,Dense,MaxPooling2D,Flatten,Concatenate,Normalization\n",
    "from tensorflow.keras.models import Model"
   ]
  },
  {
   "cell_type": "code",
   "execution_count": 166,
   "id": "ef9024c0-bbdb-4b7b-8f01-2ada32dd71f3",
   "metadata": {},
   "outputs": [],
   "source": [
    "def FeatureExtractor():\n",
    "    i=Input(shape=(200,200,3))\n",
    "    c1=Conv2D(64,kernel_size=(7,7),strides=(2,2),padding=\"same\",activation=\"relu\")(i)\n",
    "    m1=MaxPooling2D(64,strides=(2,2),padding=\"same\")(c1)\n",
    "\n",
    "    c3=Conv2D(32,kernel_size=(3,3),strides=(2,2),padding=\"same\",activation=\"relu\")(m1)\n",
    "    m3=MaxPooling2D(32,strides=(2,2),padding=\"same\")(c3)\n",
    "\n",
    "    f=Flatten()(m3)\n",
    "    \n",
    "    x=Dense(64,activation='relu',name=\"img_features\")(f)\n",
    "\n",
    "    return [i,x,Model(inputs=i,outputs=x)]"
   ]
  },
  {
   "cell_type": "code",
   "execution_count": 167,
   "id": "796b6fd0-a8cd-4bf1-9157-ba3d994701c3",
   "metadata": {},
   "outputs": [],
   "source": [
    "def EuclideanDistance(feature1,feature2):\n",
    "    return np.linalg.norm(feature1 - feature2)"
   ]
  },
  {
   "cell_type": "code",
   "execution_count": 168,
   "id": "01a3c1ae-0d82-42c4-a098-4b16a9103304",
   "metadata": {},
   "outputs": [],
   "source": [
    "def addLastLayer():\n",
    "    i,fully_connected,_=FeatureExtractor()\n",
    "    x=Dense(1,activation=\"sigmoid\")(fully_connected)\n",
    "    final_model=Model(inputs=[i],outputs=[x,fully_connected])\n",
    "    final_model.build(input_shape=(200,200,3))\n",
    "    return final_model"
   ]
  },
  {
   "cell_type": "code",
   "execution_count": 169,
   "id": "337306b0-2fb6-4204-b82f-dae69478b215",
   "metadata": {},
   "outputs": [],
   "source": [
    "final_model=addLastLayer()"
   ]
  },
  {
   "cell_type": "code",
   "execution_count": 170,
   "id": "36ba554e-19ce-46eb-8057-031c5f11fa6c",
   "metadata": {},
   "outputs": [
    {
     "data": {
      "text/html": [
       "<pre style=\"white-space:pre;overflow-x:auto;line-height:normal;font-family:Menlo,'DejaVu Sans Mono',consolas,'Courier New',monospace\"><span style=\"font-weight: bold\">Model: \"functional_41\"</span>\n",
       "</pre>\n"
      ],
      "text/plain": [
       "\u001b[1mModel: \"functional_41\"\u001b[0m\n"
      ]
     },
     "metadata": {},
     "output_type": "display_data"
    },
    {
     "data": {
      "text/html": [
       "<pre style=\"white-space:pre;overflow-x:auto;line-height:normal;font-family:Menlo,'DejaVu Sans Mono',consolas,'Courier New',monospace\">┏━━━━━━━━━━━━━━━━━━━━━━━━━━━━━━━━━━━━━━┳━━━━━━━━━━━━━━━━━━━━━━━━━━━━━┳━━━━━━━━━━━━━━━━━┓\n",
       "┃<span style=\"font-weight: bold\"> Layer (type)                         </span>┃<span style=\"font-weight: bold\"> Output Shape                </span>┃<span style=\"font-weight: bold\">         Param # </span>┃\n",
       "┡━━━━━━━━━━━━━━━━━━━━━━━━━━━━━━━━━━━━━━╇━━━━━━━━━━━━━━━━━━━━━━━━━━━━━╇━━━━━━━━━━━━━━━━━┩\n",
       "│ input_layer_18 (<span style=\"color: #0087ff; text-decoration-color: #0087ff\">InputLayer</span>)          │ (<span style=\"color: #00d7ff; text-decoration-color: #00d7ff\">None</span>, <span style=\"color: #00af00; text-decoration-color: #00af00\">200</span>, <span style=\"color: #00af00; text-decoration-color: #00af00\">200</span>, <span style=\"color: #00af00; text-decoration-color: #00af00\">3</span>)         │               <span style=\"color: #00af00; text-decoration-color: #00af00\">0</span> │\n",
       "├──────────────────────────────────────┼─────────────────────────────┼─────────────────┤\n",
       "│ conv2d_32 (<span style=\"color: #0087ff; text-decoration-color: #0087ff\">Conv2D</span>)                   │ (<span style=\"color: #00d7ff; text-decoration-color: #00d7ff\">None</span>, <span style=\"color: #00af00; text-decoration-color: #00af00\">100</span>, <span style=\"color: #00af00; text-decoration-color: #00af00\">100</span>, <span style=\"color: #00af00; text-decoration-color: #00af00\">64</span>)        │           <span style=\"color: #00af00; text-decoration-color: #00af00\">9,472</span> │\n",
       "├──────────────────────────────────────┼─────────────────────────────┼─────────────────┤\n",
       "│ max_pooling2d_32 (<span style=\"color: #0087ff; text-decoration-color: #0087ff\">MaxPooling2D</span>)      │ (<span style=\"color: #00d7ff; text-decoration-color: #00d7ff\">None</span>, <span style=\"color: #00af00; text-decoration-color: #00af00\">50</span>, <span style=\"color: #00af00; text-decoration-color: #00af00\">50</span>, <span style=\"color: #00af00; text-decoration-color: #00af00\">64</span>)          │               <span style=\"color: #00af00; text-decoration-color: #00af00\">0</span> │\n",
       "├──────────────────────────────────────┼─────────────────────────────┼─────────────────┤\n",
       "│ conv2d_33 (<span style=\"color: #0087ff; text-decoration-color: #0087ff\">Conv2D</span>)                   │ (<span style=\"color: #00d7ff; text-decoration-color: #00d7ff\">None</span>, <span style=\"color: #00af00; text-decoration-color: #00af00\">25</span>, <span style=\"color: #00af00; text-decoration-color: #00af00\">25</span>, <span style=\"color: #00af00; text-decoration-color: #00af00\">32</span>)          │          <span style=\"color: #00af00; text-decoration-color: #00af00\">18,464</span> │\n",
       "├──────────────────────────────────────┼─────────────────────────────┼─────────────────┤\n",
       "│ max_pooling2d_33 (<span style=\"color: #0087ff; text-decoration-color: #0087ff\">MaxPooling2D</span>)      │ (<span style=\"color: #00d7ff; text-decoration-color: #00d7ff\">None</span>, <span style=\"color: #00af00; text-decoration-color: #00af00\">13</span>, <span style=\"color: #00af00; text-decoration-color: #00af00\">13</span>, <span style=\"color: #00af00; text-decoration-color: #00af00\">32</span>)          │               <span style=\"color: #00af00; text-decoration-color: #00af00\">0</span> │\n",
       "├──────────────────────────────────────┼─────────────────────────────┼─────────────────┤\n",
       "│ flatten_16 (<span style=\"color: #0087ff; text-decoration-color: #0087ff\">Flatten</span>)                 │ (<span style=\"color: #00d7ff; text-decoration-color: #00d7ff\">None</span>, <span style=\"color: #00af00; text-decoration-color: #00af00\">5408</span>)                │               <span style=\"color: #00af00; text-decoration-color: #00af00\">0</span> │\n",
       "├──────────────────────────────────────┼─────────────────────────────┼─────────────────┤\n",
       "│ img_features (<span style=\"color: #0087ff; text-decoration-color: #0087ff\">Dense</span>)                 │ (<span style=\"color: #00d7ff; text-decoration-color: #00d7ff\">None</span>, <span style=\"color: #00af00; text-decoration-color: #00af00\">64</span>)                  │         <span style=\"color: #00af00; text-decoration-color: #00af00\">346,176</span> │\n",
       "├──────────────────────────────────────┼─────────────────────────────┼─────────────────┤\n",
       "│ dense_14 (<span style=\"color: #0087ff; text-decoration-color: #0087ff\">Dense</span>)                     │ (<span style=\"color: #00d7ff; text-decoration-color: #00d7ff\">None</span>, <span style=\"color: #00af00; text-decoration-color: #00af00\">1</span>)                   │              <span style=\"color: #00af00; text-decoration-color: #00af00\">65</span> │\n",
       "└──────────────────────────────────────┴─────────────────────────────┴─────────────────┘\n",
       "</pre>\n"
      ],
      "text/plain": [
       "┏━━━━━━━━━━━━━━━━━━━━━━━━━━━━━━━━━━━━━━┳━━━━━━━━━━━━━━━━━━━━━━━━━━━━━┳━━━━━━━━━━━━━━━━━┓\n",
       "┃\u001b[1m \u001b[0m\u001b[1mLayer (type)                        \u001b[0m\u001b[1m \u001b[0m┃\u001b[1m \u001b[0m\u001b[1mOutput Shape               \u001b[0m\u001b[1m \u001b[0m┃\u001b[1m \u001b[0m\u001b[1m        Param #\u001b[0m\u001b[1m \u001b[0m┃\n",
       "┡━━━━━━━━━━━━━━━━━━━━━━━━━━━━━━━━━━━━━━╇━━━━━━━━━━━━━━━━━━━━━━━━━━━━━╇━━━━━━━━━━━━━━━━━┩\n",
       "│ input_layer_18 (\u001b[38;5;33mInputLayer\u001b[0m)          │ (\u001b[38;5;45mNone\u001b[0m, \u001b[38;5;34m200\u001b[0m, \u001b[38;5;34m200\u001b[0m, \u001b[38;5;34m3\u001b[0m)         │               \u001b[38;5;34m0\u001b[0m │\n",
       "├──────────────────────────────────────┼─────────────────────────────┼─────────────────┤\n",
       "│ conv2d_32 (\u001b[38;5;33mConv2D\u001b[0m)                   │ (\u001b[38;5;45mNone\u001b[0m, \u001b[38;5;34m100\u001b[0m, \u001b[38;5;34m100\u001b[0m, \u001b[38;5;34m64\u001b[0m)        │           \u001b[38;5;34m9,472\u001b[0m │\n",
       "├──────────────────────────────────────┼─────────────────────────────┼─────────────────┤\n",
       "│ max_pooling2d_32 (\u001b[38;5;33mMaxPooling2D\u001b[0m)      │ (\u001b[38;5;45mNone\u001b[0m, \u001b[38;5;34m50\u001b[0m, \u001b[38;5;34m50\u001b[0m, \u001b[38;5;34m64\u001b[0m)          │               \u001b[38;5;34m0\u001b[0m │\n",
       "├──────────────────────────────────────┼─────────────────────────────┼─────────────────┤\n",
       "│ conv2d_33 (\u001b[38;5;33mConv2D\u001b[0m)                   │ (\u001b[38;5;45mNone\u001b[0m, \u001b[38;5;34m25\u001b[0m, \u001b[38;5;34m25\u001b[0m, \u001b[38;5;34m32\u001b[0m)          │          \u001b[38;5;34m18,464\u001b[0m │\n",
       "├──────────────────────────────────────┼─────────────────────────────┼─────────────────┤\n",
       "│ max_pooling2d_33 (\u001b[38;5;33mMaxPooling2D\u001b[0m)      │ (\u001b[38;5;45mNone\u001b[0m, \u001b[38;5;34m13\u001b[0m, \u001b[38;5;34m13\u001b[0m, \u001b[38;5;34m32\u001b[0m)          │               \u001b[38;5;34m0\u001b[0m │\n",
       "├──────────────────────────────────────┼─────────────────────────────┼─────────────────┤\n",
       "│ flatten_16 (\u001b[38;5;33mFlatten\u001b[0m)                 │ (\u001b[38;5;45mNone\u001b[0m, \u001b[38;5;34m5408\u001b[0m)                │               \u001b[38;5;34m0\u001b[0m │\n",
       "├──────────────────────────────────────┼─────────────────────────────┼─────────────────┤\n",
       "│ img_features (\u001b[38;5;33mDense\u001b[0m)                 │ (\u001b[38;5;45mNone\u001b[0m, \u001b[38;5;34m64\u001b[0m)                  │         \u001b[38;5;34m346,176\u001b[0m │\n",
       "├──────────────────────────────────────┼─────────────────────────────┼─────────────────┤\n",
       "│ dense_14 (\u001b[38;5;33mDense\u001b[0m)                     │ (\u001b[38;5;45mNone\u001b[0m, \u001b[38;5;34m1\u001b[0m)                   │              \u001b[38;5;34m65\u001b[0m │\n",
       "└──────────────────────────────────────┴─────────────────────────────┴─────────────────┘\n"
      ]
     },
     "metadata": {},
     "output_type": "display_data"
    },
    {
     "data": {
      "text/html": [
       "<pre style=\"white-space:pre;overflow-x:auto;line-height:normal;font-family:Menlo,'DejaVu Sans Mono',consolas,'Courier New',monospace\"><span style=\"font-weight: bold\"> Total params: </span><span style=\"color: #00af00; text-decoration-color: #00af00\">374,177</span> (1.43 MB)\n",
       "</pre>\n"
      ],
      "text/plain": [
       "\u001b[1m Total params: \u001b[0m\u001b[38;5;34m374,177\u001b[0m (1.43 MB)\n"
      ]
     },
     "metadata": {},
     "output_type": "display_data"
    },
    {
     "data": {
      "text/html": [
       "<pre style=\"white-space:pre;overflow-x:auto;line-height:normal;font-family:Menlo,'DejaVu Sans Mono',consolas,'Courier New',monospace\"><span style=\"font-weight: bold\"> Trainable params: </span><span style=\"color: #00af00; text-decoration-color: #00af00\">374,177</span> (1.43 MB)\n",
       "</pre>\n"
      ],
      "text/plain": [
       "\u001b[1m Trainable params: \u001b[0m\u001b[38;5;34m374,177\u001b[0m (1.43 MB)\n"
      ]
     },
     "metadata": {},
     "output_type": "display_data"
    },
    {
     "data": {
      "text/html": [
       "<pre style=\"white-space:pre;overflow-x:auto;line-height:normal;font-family:Menlo,'DejaVu Sans Mono',consolas,'Courier New',monospace\"><span style=\"font-weight: bold\"> Non-trainable params: </span><span style=\"color: #00af00; text-decoration-color: #00af00\">0</span> (0.00 B)\n",
       "</pre>\n"
      ],
      "text/plain": [
       "\u001b[1m Non-trainable params: \u001b[0m\u001b[38;5;34m0\u001b[0m (0.00 B)\n"
      ]
     },
     "metadata": {},
     "output_type": "display_data"
    }
   ],
   "source": [
    "final_model.summary()"
   ]
  },
  {
   "cell_type": "code",
   "execution_count": 78,
   "id": "0221d75c-9fc2-45d5-a14d-9c9b159e98f4",
   "metadata": {},
   "outputs": [],
   "source": [
    "# i=Input(shape=(200,200,3))\n",
    "# c1=Conv2D(64,kernel_size=(7,7),strides=(2,2),padding=\"same\",activation=\"relu\")(i)\n",
    "# # n1=Normalization()(c1)\n",
    "# m1=MaxPooling2D(pool_size=(2,2),strides=(2,2),padding=\"same\")(c1)\n",
    "\n",
    "# # c2=Conv2D(64,kernel_size=(3,3),strides=(2,2),padding=\"same\",activation=\"relu\")(m1)\n",
    "# # m2=MaxPooling2D(64,strides=(2,2),padding=\"same\")(c2)\n",
    "\n",
    "# c3=Conv2D(32,kernel_size=(3,3),strides=(2,2),padding=\"same\",activation=\"relu\")(m1)\n",
    "# # n2=Normalization()(c3)\n",
    "# m3=MaxPooling2D(pool_size=(2,2),strides=(2,2),padding=\"same\")(c3)\n",
    "\n",
    "# # n3=Normalization()(m3)\n",
    "# f=Flatten()(m3)\n",
    "# # known=Dense(num_classes,activation=\"softmax\")(f)\n",
    "# # unknown=Dense(1,activation=\"sigmoid\")(f)\n",
    "\n",
    "# # x=Concatenate(axis=-1)([known,unknown])\n",
    "\n",
    "# features=Dense(64,activation='relu',name=\"feature\")(f)\n",
    "# # x=Dense(1,activation='sigmoid')(x)\n",
    "# x=Dense(1,activation=\"sigmoid\")(features)\n",
    "# model=Model(inputs=[i],outputs=[x])"
   ]
  },
  {
   "cell_type": "code",
   "execution_count": 79,
   "id": "dc51fd44-48ff-47cd-bf10-84e1cac52b78",
   "metadata": {},
   "outputs": [],
   "source": [
    "# model.summary()"
   ]
  },
  {
   "cell_type": "code",
   "execution_count": 171,
   "id": "d07d4e9a-7dd4-4797-8b3b-1e5cee6af0b7",
   "metadata": {},
   "outputs": [],
   "source": [
    "loss=tf.keras.losses.BinaryCrossentropy()\n",
    "accuracy=tf.keras.metrics.binary_accuracy\n",
    "opt=tf.keras.optimizers.Adam(learning_rate=0.05)"
   ]
  },
  {
   "cell_type": "code",
   "execution_count": 172,
   "id": "7b3de10a-73ce-44a2-bf5e-eb92c9b3de6d",
   "metadata": {},
   "outputs": [],
   "source": [
    "class Attendance(Model):\n",
    "    def __init__(self,model,**kwargs):\n",
    "        super().__init__(**kwargs)\n",
    "        self.model=model\n",
    "        \n",
    "    def compile(self,opt,loss,**kwargs):\n",
    "        super().compile(**kwargs)\n",
    "        self.loss=loss\n",
    "        self.opt=opt\n",
    "    \n",
    "    def train_step(self,batch,**kwargs):\n",
    "        X,y=batch\n",
    "\n",
    "        with tf.GradientTape() as tape:\n",
    "            yhat=self.model(X,training=True)\n",
    "            classLoss=self.loss(y,yhat[0])\n",
    "            grad=tape.gradient(classLoss,self.model.trainable_variables)\n",
    "        opt.apply_gradients(zip(grad,self.model.trainable_variables))\n",
    "        \n",
    "        acc=accuracy(y,yhat[0])\n",
    "        return {\"loss\":classLoss,\"accuracy\":acc}\n",
    "    \n",
    "    def test_step(self,batch,**kwargs):\n",
    "        X,y=batch\n",
    "        \n",
    "        yhat=self.model(X,training=False)\n",
    "        classLoss=self.loss(y,yhat[0])\n",
    "        \n",
    "        acc=accuracy(y,yhat[0])\n",
    "        return {\"loss\":classLoss,\"accuracy\":acc}\n",
    "    \n",
    "    def get_config(self):\n",
    "        base_config = super().get_config()\n",
    "        config = {\n",
    "                \"submodel\": tf.keras.utils.serialize_keras_object(self.model),\n",
    "                }\n",
    "        return {**base_config, **config}\n",
    "    @classmethod\n",
    "    def from_config(cls, config):\n",
    "        submodel_config = config.pop(\"submodel\")\n",
    "        submodel = tf.keras.utils.deserialize_keras_object(submodel_config)\n",
    "        return cls(model=submodel, **config)\n",
    "    \n",
    "    def call(self,X,**kwargs):\n",
    "        return self.model(X,**kwargs)"
   ]
  },
  {
   "cell_type": "code",
   "execution_count": 173,
   "id": "08522b47-a090-4256-9212-a7180d217c56",
   "metadata": {},
   "outputs": [],
   "source": [
    "model=Attendance(final_model)"
   ]
  },
  {
   "cell_type": "code",
   "execution_count": 174,
   "id": "3e9163ef-9c5b-41f4-8bdb-883a4ff0d047",
   "metadata": {},
   "outputs": [],
   "source": [
    "model.compile(opt,loss)"
   ]
  },
  {
   "cell_type": "code",
   "execution_count": 180,
   "id": "fa67021f-bc81-464e-84ed-2c936f3acaa6",
   "metadata": {
    "scrolled": true,
    "tags": []
   },
   "outputs": [
    {
     "name": "stdout",
     "output_type": "stream",
     "text": [
      "Epoch 1/5\n",
      "\u001b[1m35/35\u001b[0m \u001b[32m━━━━━━━━━━━━━━━━━━━━\u001b[0m\u001b[37m\u001b[0m \u001b[1m80s\u001b[0m 2s/step - accuracy: 1.0000 - loss: 0.0000e+00 - val_loss: 0.0000e+00\n",
      "Epoch 2/5\n",
      "\u001b[1m35/35\u001b[0m \u001b[32m━━━━━━━━━━━━━━━━━━━━\u001b[0m\u001b[37m\u001b[0m \u001b[1m77s\u001b[0m 2s/step - accuracy: 1.0000 - loss: 0.0000e+00 - val_loss: 0.0000e+00\n",
      "Epoch 3/5\n",
      "\u001b[1m35/35\u001b[0m \u001b[32m━━━━━━━━━━━━━━━━━━━━\u001b[0m\u001b[37m\u001b[0m \u001b[1m79s\u001b[0m 2s/step - accuracy: 1.0000 - loss: 0.0000e+00 - val_loss: 0.0000e+00\n",
      "Epoch 4/5\n",
      "\u001b[1m35/35\u001b[0m \u001b[32m━━━━━━━━━━━━━━━━━━━━\u001b[0m\u001b[37m\u001b[0m \u001b[1m81s\u001b[0m 2s/step - accuracy: 1.0000 - loss: 0.0000e+00 - val_loss: 0.0000e+00\n",
      "Epoch 5/5\n",
      "\u001b[1m35/35\u001b[0m \u001b[32m━━━━━━━━━━━━━━━━━━━━\u001b[0m\u001b[37m\u001b[0m \u001b[1m83s\u001b[0m 2s/step - accuracy: 1.0000 - loss: 0.0000e+00 - val_loss: 0.0000e+00\n"
     ]
    }
   ],
   "source": [
    "hist=model.fit(train,epochs=5,validation_data=val)"
   ]
  },
  {
   "cell_type": "code",
   "execution_count": 181,
   "id": "aa54d4fc-e0e7-466f-8862-fa83e7e9e2cc",
   "metadata": {},
   "outputs": [
    {
     "name": "stdout",
     "output_type": "stream",
     "text": [
      "\u001b[1m1/1\u001b[0m \u001b[32m━━━━━━━━━━━━━━━━━━━━\u001b[0m\u001b[37m\u001b[0m \u001b[1m0s\u001b[0m 190ms/step\n"
     ]
    },
    {
     "data": {
      "text/plain": [
       "[array([[1.]], dtype=float32),\n",
       " array([[1.3967139e+02, 2.3081892e+06, 1.7356112e+03, 0.0000000e+00,\n",
       "         2.3177782e+06, 2.3067208e+06, 1.6446989e+03, 0.0000000e+00,\n",
       "         7.5076416e+02, 0.0000000e+00, 0.0000000e+00, 2.3019582e+06,\n",
       "         2.2417520e+06, 0.0000000e+00, 0.0000000e+00, 0.0000000e+00,\n",
       "         2.0043824e+03, 0.0000000e+00, 2.3089998e+06, 2.3099182e+06,\n",
       "         0.0000000e+00, 1.9838102e+03, 0.0000000e+00, 2.2998148e+06,\n",
       "         2.2829818e+06, 2.2687492e+06, 1.0309475e+03, 2.3139138e+06,\n",
       "         7.4205652e+02, 0.0000000e+00, 0.0000000e+00, 1.8324707e+01,\n",
       "         0.0000000e+00, 0.0000000e+00, 0.0000000e+00, 2.3100958e+06,\n",
       "         0.0000000e+00, 0.0000000e+00, 2.3968066e+03, 2.6457549e+03,\n",
       "         2.2869460e+06, 2.2857098e+06, 2.3097108e+06, 2.3126775e+06,\n",
       "         0.0000000e+00, 1.2846449e+03, 2.1404568e+06, 2.2463632e+06,\n",
       "         2.3038890e+06, 1.1822578e+03, 0.0000000e+00, 0.0000000e+00,\n",
       "         5.0249860e+02, 6.5469153e+02, 0.0000000e+00, 0.0000000e+00,\n",
       "         0.0000000e+00, 2.2990518e+06, 0.0000000e+00, 2.2975898e+06,\n",
       "         1.8411628e+06, 2.3156900e+06, 2.3239508e+06, 2.2334982e+06]],\n",
       "       dtype=float32)]"
      ]
     },
     "execution_count": 181,
     "metadata": {},
     "output_type": "execute_result"
    }
   ],
   "source": [
    "model.predict(test_img)"
   ]
  },
  {
   "cell_type": "markdown",
   "id": "57608783-5cc1-43e4-91c5-bad2e5c6a7fb",
   "metadata": {},
   "source": [
    "##### zero loss,val_loss and 1 accuracy is because every image being passed has an image and hence the label will always be 1, there is no image which has label 0 and hence the loss and accuracy are 0 and 1"
   ]
  },
  {
   "cell_type": "code",
   "execution_count": 91,
   "id": "358baea0-fcc1-45a9-9018-9755bf2ab110",
   "metadata": {},
   "outputs": [],
   "source": [
    "# model.save(\"AttendanceSystem.keras\")\n",
    "# model.save_weights(\"model_weights.h5\")"
   ]
  },
  {
   "cell_type": "code",
   "execution_count": 184,
   "id": "30c1de80-d9a9-4e15-a1a1-036d87800e37",
   "metadata": {
    "scrolled": true,
    "tags": []
   },
   "outputs": [],
   "source": [
    "from tensorflow.keras.utils import custom_object_scope\n",
    "\n",
    "with custom_object_scope({'Attendance': Attendance}):\n",
    "    # custom_objects = {'Attendance': Attendance.from_config}\n",
    "    # custom_objects={'Functional':tf.keras.models.Model}\n",
    "    model=tf.keras.models.load_model(\"AttendanceSystem.keras\")"
   ]
  },
  {
   "cell_type": "code",
   "execution_count": 185,
   "id": "127a31e3-a5b1-4bdb-9058-525e406cde61",
   "metadata": {},
   "outputs": [
    {
     "name": "stdout",
     "output_type": "stream",
     "text": [
      "WARNING:tensorflow:6 out of the last 6 calls to <function TensorFlowTrainer.make_predict_function.<locals>.one_step_on_data_distributed at 0x0000028462F8AE60> triggered tf.function retracing. Tracing is expensive and the excessive number of tracings could be due to (1) creating @tf.function repeatedly in a loop, (2) passing tensors with different shapes, (3) passing Python objects instead of tensors. For (1), please define your @tf.function outside of the loop. For (2), @tf.function has reduce_retracing=True option that can avoid unnecessary retracing. For (3), please refer to https://www.tensorflow.org/guide/function#controlling_retracing and https://www.tensorflow.org/api_docs/python/tf/function for  more details.\n",
      "\u001b[1m1/1\u001b[0m \u001b[32m━━━━━━━━━━━━━━━━━━━━\u001b[0m\u001b[37m\u001b[0m \u001b[1m0s\u001b[0m 179ms/step\n"
     ]
    },
    {
     "data": {
      "text/plain": [
       "[array([[1.]], dtype=float32),\n",
       " array([[1.4758671e+06, 0.0000000e+00, 0.0000000e+00, 0.0000000e+00,\n",
       "         0.0000000e+00, 0.0000000e+00, 0.0000000e+00, 0.0000000e+00,\n",
       "         0.0000000e+00, 0.0000000e+00, 1.7411255e+06, 0.0000000e+00,\n",
       "         1.7435232e+06, 1.7301802e+06, 2.9163422e+02, 0.0000000e+00,\n",
       "         1.7391462e+06, 0.0000000e+00, 1.7464792e+06, 0.0000000e+00,\n",
       "         0.0000000e+00, 0.0000000e+00, 0.0000000e+00, 4.5326056e+02,\n",
       "         1.7444038e+06, 0.0000000e+00, 0.0000000e+00, 1.5556751e+06,\n",
       "         2.0535303e+03, 1.7369848e+06, 2.0086268e+03, 1.8920579e+03,\n",
       "         0.0000000e+00, 1.6858732e+06, 0.0000000e+00, 0.0000000e+00,\n",
       "         0.0000000e+00, 0.0000000e+00, 0.0000000e+00, 0.0000000e+00,\n",
       "         0.0000000e+00, 1.7308192e+06, 1.7364232e+06, 0.0000000e+00,\n",
       "         3.0100273e+03, 0.0000000e+00, 2.5681541e+03, 1.7372958e+06,\n",
       "         0.0000000e+00, 1.1993213e+02, 0.0000000e+00, 0.0000000e+00,\n",
       "         4.2356824e+02, 0.0000000e+00, 0.0000000e+00, 0.0000000e+00,\n",
       "         1.7002089e+06, 0.0000000e+00, 1.5940050e+06, 1.5618415e+06,\n",
       "         1.1415398e+03, 0.0000000e+00, 5.7165787e+01, 1.7200271e+06]],\n",
       "       dtype=float32)]"
      ]
     },
     "execution_count": 185,
     "metadata": {},
     "output_type": "execute_result"
    }
   ],
   "source": [
    "model.predict(test_img)"
   ]
  },
  {
   "cell_type": "markdown",
   "id": "38481f60-1524-416f-87f0-8ef1695c625e",
   "metadata": {},
   "source": [
    "### Manual Testing"
   ]
  },
  {
   "cell_type": "code",
   "execution_count": 64,
   "id": "a0fbeb1f-cf51-406d-9aa0-99ade92b8f45",
   "metadata": {},
   "outputs": [
    {
     "data": {
      "text/plain": [
       "<tensorflow.python.saved_model.load.Loader._recreate_base_user_object.<locals>._UserObject at 0x1f168188ee0>"
      ]
     },
     "execution_count": 64,
     "metadata": {},
     "output_type": "execute_result"
    }
   ],
   "source": [
    "\n",
    "# features_extracted=output[-1]"
   ]
  },
  {
   "cell_type": "code",
   "execution_count": 244,
   "id": "b2a0ac7b-f679-4d57-8429-5846ff750d38",
   "metadata": {},
   "outputs": [
    {
     "data": {
      "text/plain": [
       "<tf.Tensor: shape=(1, 1), dtype=float32, numpy=array([[1.]], dtype=float32)>"
      ]
     },
     "execution_count": 244,
     "metadata": {},
     "output_type": "execute_result"
    }
   ],
   "source": [
    "output"
   ]
  },
  {
   "cell_type": "code",
   "execution_count": 86,
   "id": "d0dc185b-71fb-4c2d-aec7-4f7cbcc0fa53",
   "metadata": {},
   "outputs": [],
   "source": [
    "test_img=os.path.join(\"images\",\"Zinedine_Zidane_0001.jpg\")"
   ]
  },
  {
   "cell_type": "code",
   "execution_count": 87,
   "id": "148c87ab-1fa6-43fc-a6db-77e727dbcc8c",
   "metadata": {},
   "outputs": [
    {
     "data": {
      "text/plain": [
       "'images\\\\Zinedine_Zidane_0001.jpg'"
      ]
     },
     "execution_count": 87,
     "metadata": {},
     "output_type": "execute_result"
    }
   ],
   "source": [
    "test_img"
   ]
  },
  {
   "cell_type": "code",
   "execution_count": 88,
   "id": "5ae2ca55-4e0a-4c20-9c0c-4b961709f3b5",
   "metadata": {},
   "outputs": [],
   "source": [
    "test_img=load_image(test_img)"
   ]
  },
  {
   "cell_type": "code",
   "execution_count": 89,
   "id": "344d58d7-dafe-4d93-8e6d-a4e27a03cfad",
   "metadata": {},
   "outputs": [],
   "source": [
    "test_img=np.expand_dims(test_img,axis=0)"
   ]
  },
  {
   "cell_type": "code",
   "execution_count": 122,
   "id": "6c90ba66-81db-4663-81c1-96d931b5d910",
   "metadata": {
    "scrolled": true,
    "tags": []
   },
   "outputs": [],
   "source": [
    "# test_img"
   ]
  },
  {
   "cell_type": "code",
   "execution_count": 186,
   "id": "8c27dd48-6ab6-4d3d-82f8-f9645306ef3a",
   "metadata": {},
   "outputs": [
    {
     "name": "stdout",
     "output_type": "stream",
     "text": [
      "\u001b[1m1/1\u001b[0m \u001b[32m━━━━━━━━━━━━━━━━━━━━\u001b[0m\u001b[37m\u001b[0m \u001b[1m0s\u001b[0m 86ms/step\n"
     ]
    }
   ],
   "source": [
    "feature1=model.predict(test_img)[1]"
   ]
  },
  {
   "cell_type": "code",
   "execution_count": 187,
   "id": "416b25a2-c189-4e4c-b424-3e2868522425",
   "metadata": {},
   "outputs": [
    {
     "name": "stdout",
     "output_type": "stream",
     "text": [
      "\u001b[1m1/1\u001b[0m \u001b[32m━━━━━━━━━━━━━━━━━━━━\u001b[0m\u001b[37m\u001b[0m \u001b[1m0s\u001b[0m 81ms/step\n"
     ]
    }
   ],
   "source": [
    "feature2=model.predict(np.expand_dims(load_image(os.path.join(\"images\",\"Zach_Parise_0001.jpg\")),axis=0))[1]"
   ]
  },
  {
   "cell_type": "code",
   "execution_count": 825,
   "id": "3726e7e3-ab5c-4a69-b069-114a356f3275",
   "metadata": {},
   "outputs": [],
   "source": [
    "person_feature={}"
   ]
  },
  {
   "cell_type": "code",
   "execution_count": 188,
   "id": "ac373468-f550-4e30-8f0e-11284b830b9a",
   "metadata": {},
   "outputs": [],
   "source": [
    "dist1=EuclideanDistance(feature1,feature2)"
   ]
  },
  {
   "cell_type": "code",
   "execution_count": 191,
   "id": "a54d1099-6cfe-439d-a4bd-7a63dd6e620f",
   "metadata": {},
   "outputs": [
    {
     "name": "stdout",
     "output_type": "stream",
     "text": [
      "\u001b[1m1/1\u001b[0m \u001b[32m━━━━━━━━━━━━━━━━━━━━\u001b[0m\u001b[37m\u001b[0m \u001b[1m0s\u001b[0m 96ms/step\n"
     ]
    }
   ],
   "source": [
    "dist2=EuclideanDistance(feature1,model.predict(np.expand_dims(load_image(os.path.join(\"images\",\"Zinedine_Zidane_0003.jpg\")),axis=0))[1])"
   ]
  },
  {
   "cell_type": "code",
   "execution_count": 192,
   "id": "4c23dccb-39f9-4b4f-9a82-5d0e4a92b47c",
   "metadata": {},
   "outputs": [
    {
     "data": {
      "text/plain": [
       "(1738266.9, 160871.7)"
      ]
     },
     "execution_count": 192,
     "metadata": {},
     "output_type": "execute_result"
    }
   ],
   "source": [
    "dist1,dist2"
   ]
  },
  {
   "cell_type": "code",
   "execution_count": 193,
   "id": "3e8c306d-7430-400c-8aa5-0850dac1ea47",
   "metadata": {},
   "outputs": [
    {
     "data": {
      "text/plain": [
       "True"
      ]
     },
     "execution_count": 193,
     "metadata": {},
     "output_type": "execute_result"
    }
   ],
   "source": [
    "dist2<dist1"
   ]
  },
  {
   "cell_type": "code",
   "execution_count": 846,
   "id": "fa0a37e3-ff33-4cbc-b4fc-09599ab3f8c6",
   "metadata": {},
   "outputs": [],
   "source": [
    "person_feature[\"Zach_Parise_0001\"]=EuclideanDistance(feature1,feature2)"
   ]
  },
  {
   "cell_type": "code",
   "execution_count": 847,
   "id": "152c2f23-3b6a-45de-9d80-2b228965ab53",
   "metadata": {},
   "outputs": [
    {
     "data": {
      "text/plain": [
       "6"
      ]
     },
     "execution_count": 847,
     "metadata": {},
     "output_type": "execute_result"
    }
   ],
   "source": [
    "len(person_feature)"
   ]
  },
  {
   "cell_type": "code",
   "execution_count": 848,
   "id": "e4e8e199-a93a-467a-a89c-3b809d0d0a3c",
   "metadata": {},
   "outputs": [],
   "source": [
    "min_distance=min(person_feature.values())"
   ]
  },
  {
   "cell_type": "code",
   "execution_count": 851,
   "id": "9a9d7e73-2690-41d2-9049-8e29f7c7cd64",
   "metadata": {},
   "outputs": [
    {
     "data": {
      "text/plain": [
       "dict_values([318251.4, 477340.8, 1943809.6, 854507.2, 1962109.6, 2332049.2])"
      ]
     },
     "execution_count": 851,
     "metadata": {},
     "output_type": "execute_result"
    }
   ],
   "source": [
    "person_feature.values()"
   ]
  },
  {
   "cell_type": "code",
   "execution_count": 849,
   "id": "e4fd49fb-da32-4d5a-a30a-de02e01bd3fb",
   "metadata": {},
   "outputs": [
    {
     "data": {
      "text/plain": [
       "318251.4"
      ]
     },
     "execution_count": 849,
     "metadata": {},
     "output_type": "execute_result"
    }
   ],
   "source": [
    "min_distance"
   ]
  },
  {
   "cell_type": "code",
   "execution_count": 850,
   "id": "4e840828-4ccb-4a76-a0fe-b2d2e4c15766",
   "metadata": {},
   "outputs": [
    {
     "name": "stdout",
     "output_type": "stream",
     "text": [
      "Zinedine_Zidane_0002\n"
     ]
    }
   ],
   "source": [
    "for key in list(person_feature.keys()):\n",
    "    if person_feature[key]==min_distance:\n",
    "        print(key)\n",
    "        break"
   ]
  },
  {
   "cell_type": "code",
   "execution_count": 852,
   "id": "e37ae5a6-08dd-4bab-b548-29abebfee297",
   "metadata": {},
   "outputs": [
    {
     "data": {
      "text/plain": [
       "dict_keys(['Zinedine_Zidane_0002', 'Zydrunas_Ilgauskas_0001', 'Zoe_Ball_0001', 'Zico_0001', 'Yuri_Malenchenko_0001', 'Zach_Parise_0001'])"
      ]
     },
     "execution_count": 852,
     "metadata": {},
     "output_type": "execute_result"
    }
   ],
   "source": [
    "person_feature.keys()"
   ]
  },
  {
   "cell_type": "markdown",
   "id": "5704d5bf-2b13-4522-9501-12829c8e7eb0",
   "metadata": {},
   "source": [
    "### Realtime Comparison"
   ]
  },
  {
   "cell_type": "code",
   "execution_count": 194,
   "id": "a0b04606-def6-4a87-b637-dc91f67bdb52",
   "metadata": {},
   "outputs": [],
   "source": [
    "def isFace(gray,frame):\n",
    "    faces=face_cascade.detectMultiScale(gray,scaleFactor=1.3,minNeighbors=3)\n",
    "    if len(faces)>0:\n",
    "        return (True,faces)\n",
    "    else:\n",
    "        return(False,faces)"
   ]
  },
  {
   "cell_type": "code",
   "execution_count": 195,
   "id": "980655f3-f4cb-45a2-93f1-60303b84222a",
   "metadata": {},
   "outputs": [],
   "source": [
    "def NewFace():\n",
    "    cap=cv2.VideoCapture(0)\n",
    "    try:\n",
    "        while True:\n",
    "            ret,frame=cap.read()\n",
    "            if ret:\n",
    "                # cv2.rectangle(frame,(140,50),(500,400),(0,0,255),2)\n",
    "                gray=cv2.cvtColor(frame,cv2.COLOR_BGR2GRAY)\n",
    "                face,coord=isFace(gray,frame)\n",
    "                # print(coord)\n",
    "                if face:\n",
    "                    for (x,y,w,h) in coord:\n",
    "                        cv2.rectangle(frame,(x,y),(x+w,y+h),(255,255,255),2)\n",
    "                cv2.imshow(\"test\",frame)\n",
    "                key=cv2.waitKey(1) & 0xFF\n",
    "                if face and key==ord('c'):\n",
    "                    name=input(\"Enter name: \")\n",
    "                    print(\"processing..\")\n",
    "                    imgpath=os.path.join(\"user_imgs\",name+\".jpg\")\n",
    "                    cv2.imwrite(imgpath,frame[coord[0][1]:coord[0][1]+coord[0][3],coord[0][0]:coord[0][0]+coord[0][2]])\n",
    "                    frame=np.expand_dims(load_image(imgpath),axis=0)\n",
    "                    features=model.predict(frame)[1]\n",
    "                    np.save(\"features/\"+name+\".npy\",features)\n",
    "                    print(\"done\")\n",
    "                    cap.release()\n",
    "                    cv2.destroyAllWindows()\n",
    "                    return\n",
    "                elif key==ord('q'):\n",
    "                    break\n",
    "    except Exception as e:\n",
    "        print(e,frame.shape)\n",
    "    finally:\n",
    "        cap.release()\n",
    "        cv2.destroyAllWindows()"
   ]
  },
  {
   "cell_type": "code",
   "execution_count": 197,
   "id": "77db9685-a50b-44a5-a9ab-11dab678e24b",
   "metadata": {},
   "outputs": [
    {
     "name": "stdin",
     "output_type": "stream",
     "text": [
      "Enter name:  Arnav\n"
     ]
    },
    {
     "name": "stdout",
     "output_type": "stream",
     "text": [
      "processing..\n",
      "\u001b[1m1/1\u001b[0m \u001b[32m━━━━━━━━━━━━━━━━━━━━\u001b[0m\u001b[37m\u001b[0m \u001b[1m0s\u001b[0m 78ms/step\n",
      "done\n"
     ]
    }
   ],
   "source": [
    "NewFace()"
   ]
  },
  {
   "cell_type": "code",
   "execution_count": 198,
   "id": "c4d30816-b090-4af4-8574-24a117f7fd95",
   "metadata": {},
   "outputs": [],
   "source": [
    "feature_test=np.load(\"features/Arnav.npy\")"
   ]
  },
  {
   "cell_type": "code",
   "execution_count": 199,
   "id": "d123ba3b-798b-4f9c-ac70-ee6c642063e7",
   "metadata": {},
   "outputs": [
    {
     "data": {
      "text/plain": [
       "array([[1.1021468e+06, 0.0000000e+00, 0.0000000e+00, 0.0000000e+00,\n",
       "        0.0000000e+00, 0.0000000e+00, 0.0000000e+00, 0.0000000e+00,\n",
       "        0.0000000e+00, 0.0000000e+00, 1.3048932e+06, 0.0000000e+00,\n",
       "        1.3065952e+06, 1.2964868e+06, 2.2819275e+02, 0.0000000e+00,\n",
       "        1.3031159e+06, 0.0000000e+00, 1.3087492e+06, 0.0000000e+00,\n",
       "        0.0000000e+00, 0.0000000e+00, 0.0000000e+00, 4.2621640e+02,\n",
       "        1.3072448e+06, 0.0000000e+00, 0.0000000e+00, 1.1632452e+06,\n",
       "        1.5850239e+03, 1.3016191e+06, 1.5276125e+03, 1.4288857e+03,\n",
       "        0.0000000e+00, 1.2625732e+06, 0.0000000e+00, 0.0000000e+00,\n",
       "        0.0000000e+00, 0.0000000e+00, 0.0000000e+00, 0.0000000e+00,\n",
       "        0.0000000e+00, 1.2969054e+06, 1.3010538e+06, 0.0000000e+00,\n",
       "        2.3237104e+03, 0.0000000e+00, 1.6237332e+03, 1.3017048e+06,\n",
       "        0.0000000e+00, 2.1522772e+02, 0.0000000e+00, 0.0000000e+00,\n",
       "        3.4829779e+02, 0.0000000e+00, 0.0000000e+00, 0.0000000e+00,\n",
       "        1.2731520e+06, 0.0000000e+00, 1.1922192e+06, 1.1674628e+06,\n",
       "        8.3930762e+02, 0.0000000e+00, 4.2812210e+01, 1.2885739e+06]],\n",
       "      dtype=float32)"
      ]
     },
     "execution_count": 199,
     "metadata": {},
     "output_type": "execute_result"
    }
   ],
   "source": [
    "feature_test"
   ]
  },
  {
   "cell_type": "code",
   "execution_count": 196,
   "id": "496e446a-7fb9-4265-9e68-5af0026a977f",
   "metadata": {},
   "outputs": [],
   "source": [
    "def SameFaceCheck():\n",
    "    cap=cv2.VideoCapture(0)\n",
    "    try:\n",
    "        while True:\n",
    "            ret,frame=cap.read()\n",
    "            if ret:\n",
    "                gray=cv2.cvtColor(frame,cv2.COLOR_BGR2GRAY)\n",
    "                face,coord=isFace(gray,frame)\n",
    "                if face:\n",
    "                    for (x,y,w,h) in coord:\n",
    "                        cv2.rectangle(frame,(x,y),(x+w,y+h),(255,255,255),2)\n",
    "                cv2.imshow(\"test\",frame)\n",
    "                key=cv2.waitKey(1) & 0xFF\n",
    "                if face and key==ord('a'):\n",
    "                    print(\"processing..\")\n",
    "                    imgpath=os.path.join(\"user_imgs\",\"temp\"+\".jpg\")\n",
    "                    cv2.imwrite(imgpath,frame[coord[0][1]:coord[0][1]+coord[0][3],coord[0][0]:coord[0][0]+coord[0][2]])\n",
    "                    img=np.expand_dims(load_image(imgpath),axis=0)\n",
    "                    new=model.predict(img)[1]\n",
    "                    person_feature={}\n",
    "                    for feature in os.listdir(\"features\"):\n",
    "                        present=np.load(\"features/\"+feature)\n",
    "                        distance=EuclideanDistance(present,new)\n",
    "                        person_feature[distance]=feature\n",
    "                    min_dist=min(person_feature.keys())\n",
    "                    print(person_feature[min_dist][:-4])\n",
    "                    os.remove(os.path.join(\"user_imgs\",\"temp.jpg\"))\n",
    "                    cap.release()\n",
    "                    cv2.destroyAllWindows()\n",
    "                    return\n",
    "                elif key==ord('q'):\n",
    "                    break\n",
    "    except Exception as e:\n",
    "        print(e)\n",
    "    finally:\n",
    "        cap.release()\n",
    "        cv2.destroyAllWindows()"
   ]
  },
  {
   "cell_type": "code",
   "execution_count": 200,
   "id": "0b6a94d8-1614-453c-b3be-8339cfef9783",
   "metadata": {},
   "outputs": [
    {
     "name": "stdout",
     "output_type": "stream",
     "text": [
      "processing..\n",
      "\u001b[1m1/1\u001b[0m \u001b[32m━━━━━━━━━━━━━━━━━━━━\u001b[0m\u001b[37m\u001b[0m \u001b[1m0s\u001b[0m 77ms/step\n",
      "Arnav\n"
     ]
    }
   ],
   "source": [
    "SameFaceCheck()"
   ]
  },
  {
   "cell_type": "code",
   "execution_count": null,
   "id": "841993f3-5d25-4d0c-a4c0-73c9b8f19096",
   "metadata": {},
   "outputs": [],
   "source": []
  }
 ],
 "metadata": {
  "kernelspec": {
   "display_name": "Python 3 (ipykernel)",
   "language": "python",
   "name": "python3"
  },
  "language_info": {
   "codemirror_mode": {
    "name": "ipython",
    "version": 3
   },
   "file_extension": ".py",
   "mimetype": "text/x-python",
   "name": "python",
   "nbconvert_exporter": "python",
   "pygments_lexer": "ipython3",
   "version": "3.10.8"
  }
 },
 "nbformat": 4,
 "nbformat_minor": 5
}
