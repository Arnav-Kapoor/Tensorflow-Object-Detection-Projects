{
 "cells": [
  {
   "cell_type": "code",
   "execution_count": 371,
   "id": "ce596879-814b-4e44-b4ed-2cb5935e25ab",
   "metadata": {},
   "outputs": [],
   "source": [
    "import cv2\n",
    "import matplotlib.pyplot as plt\n",
    "import numpy as np\n",
    "import os\n",
    "import tensorflow as tf"
   ]
  },
  {
   "cell_type": "markdown",
   "id": "0532d438-37eb-48a4-96c4-cb41da244591",
   "metadata": {},
   "source": [
    "### obtaining data"
   ]
  },
  {
   "cell_type": "code",
   "execution_count": 2,
   "id": "e3317f1d-0d78-4eee-b2dd-3a22aa1d5749",
   "metadata": {},
   "outputs": [],
   "source": [
    "datasetPath=\"./data/A_Z Handwritten Data.csv\""
   ]
  },
  {
   "cell_type": "code",
   "execution_count": 3,
   "id": "ba584120-a4d9-4043-a8c6-7b214a3be100",
   "metadata": {},
   "outputs": [],
   "source": [
    "labels=[]\n",
    "images=[]\n",
    "for row in open(datasetPath):\n",
    "    # parse the label and image from the row\n",
    "    row = row.split(\",\")\n",
    "    label = int(row[0])\n",
    "    image = np.array([[[int(x) for x in row[1:]]]], dtype=\"uint8\")\n",
    "    image=image.reshape((28,28))\n",
    "    images.append(image)\n",
    "    labels.append(label)"
   ]
  },
  {
   "cell_type": "code",
   "execution_count": 4,
   "id": "8443453b-f691-46e6-9ade-eaadda3ddd17",
   "metadata": {},
   "outputs": [],
   "source": [
    "labels=np.array(labels,dtype=\"int\")\n",
    "images=np.array(images,dtype=\"float32\")"
   ]
  },
  {
   "cell_type": "code",
   "execution_count": 5,
   "id": "550ebf21-e7b6-43c1-ae26-a61a1fe39e51",
   "metadata": {},
   "outputs": [],
   "source": [
    "img=images[1]"
   ]
  },
  {
   "cell_type": "code",
   "execution_count": 6,
   "id": "c7feec5c-2a56-4950-8355-3fe2e1944b6f",
   "metadata": {},
   "outputs": [
    {
     "data": {
      "text/plain": [
       "numpy.ndarray"
      ]
     },
     "execution_count": 6,
     "metadata": {},
     "output_type": "execute_result"
    }
   ],
   "source": [
    "type(img)"
   ]
  },
  {
   "cell_type": "code",
   "execution_count": 7,
   "id": "20ad3448-454a-44a4-9354-452b45d7f68f",
   "metadata": {},
   "outputs": [
    {
     "data": {
      "text/plain": [
       "(28, 28)"
      ]
     },
     "execution_count": 7,
     "metadata": {},
     "output_type": "execute_result"
    }
   ],
   "source": [
    "img.shape"
   ]
  },
  {
   "cell_type": "code",
   "execution_count": 320,
   "id": "e1bf16ee-c2fc-4a4c-bd2b-15979cf3a324",
   "metadata": {},
   "outputs": [],
   "source": [
    "# img"
   ]
  },
  {
   "cell_type": "code",
   "execution_count": 8,
   "id": "4c373614-26e4-4cb0-823c-6c813b960633",
   "metadata": {},
   "outputs": [
    {
     "data": {
      "text/plain": [
       "0"
      ]
     },
     "execution_count": 8,
     "metadata": {},
     "output_type": "execute_result"
    }
   ],
   "source": [
    "labels[1]"
   ]
  },
  {
   "cell_type": "code",
   "execution_count": 9,
   "id": "480bfb09-d921-4ec6-a777-ec8519eead0d",
   "metadata": {},
   "outputs": [
    {
     "data": {
      "image/png": "[encoded data removed]",
      "text/plain": [
       "<Figure size 640x480 with 1 Axes>"
      ]
     },
     "metadata": {},
     "output_type": "display_data"
    }
   ],
   "source": [
    "%matplotlib inline\n",
    "plt.imshow(img,interpolation=\"nearest\")\n",
    "plt.show()"
   ]
  },
  {
   "cell_type": "code",
   "execution_count": 10,
   "id": "0cc58db8-a8f4-4134-82ee-81a5421bc4e0",
   "metadata": {},
   "outputs": [],
   "source": [
    "from tensorflow.keras.datasets import mnist"
   ]
  },
  {
   "cell_type": "code",
   "execution_count": 11,
   "id": "c5d4c425-4b16-46ae-bddd-844aa44d1f5f",
   "metadata": {},
   "outputs": [],
   "source": [
    "(train_mnist,train_labels_mnist),(test_mnist,test_labels_mnist)=mnist.load_data()"
   ]
  },
  {
   "cell_type": "code",
   "execution_count": 12,
   "id": "26d7f511-48dd-469f-bc67-2f1491515393",
   "metadata": {},
   "outputs": [],
   "source": [
    "mnist_data=np.concatenate((train_mnist,test_mnist))\n",
    "mnist_labels=np.concatenate((train_labels_mnist,test_labels_mnist))"
   ]
  },
  {
   "cell_type": "code",
   "execution_count": 325,
   "id": "a12a2cae-5e53-4554-9216-23cd6006145e",
   "metadata": {},
   "outputs": [],
   "source": [
    "# mnist_data=np.asarray([np.expand_dims(img,axis=0) for img in mnist_data])"
   ]
  },
  {
   "cell_type": "code",
   "execution_count": 13,
   "id": "86256d25-ca87-4e67-8e28-e1f27f3755a2",
   "metadata": {},
   "outputs": [
    {
     "data": {
      "text/plain": [
       "(28, 28)"
      ]
     },
     "execution_count": 13,
     "metadata": {},
     "output_type": "execute_result"
    }
   ],
   "source": [
    "mnist_data[0].shape"
   ]
  },
  {
   "cell_type": "code",
   "execution_count": 14,
   "id": "e87ceab9-32d8-4e3e-9ece-059e991902f8",
   "metadata": {},
   "outputs": [
    {
     "data": {
      "text/plain": [
       "numpy.ndarray"
      ]
     },
     "execution_count": 14,
     "metadata": {},
     "output_type": "execute_result"
    }
   ],
   "source": [
    "type(mnist_data)"
   ]
  },
  {
   "cell_type": "code",
   "execution_count": 15,
   "id": "74ec6dc2-9d8e-4fa5-902e-70d2d05c675e",
   "metadata": {},
   "outputs": [
    {
     "data": {
      "text/plain": [
       "(70000, 70000)"
      ]
     },
     "execution_count": 15,
     "metadata": {},
     "output_type": "execute_result"
    }
   ],
   "source": [
    "len(mnist_data),len(mnist_labels)"
   ]
  },
  {
   "cell_type": "code",
   "execution_count": 16,
   "id": "9105f309-68c5-4e97-98d0-6f228df81fd0",
   "metadata": {},
   "outputs": [
    {
     "data": {
      "text/plain": [
       "4"
      ]
     },
     "execution_count": 16,
     "metadata": {},
     "output_type": "execute_result"
    }
   ],
   "source": [
    "mnist_labels[2]"
   ]
  },
  {
   "cell_type": "code",
   "execution_count": 17,
   "id": "d4168183-ad50-4946-9c89-0d0ffadeea2f",
   "metadata": {},
   "outputs": [
    {
     "data": {
      "text/plain": [
       "numpy.ndarray"
      ]
     },
     "execution_count": 17,
     "metadata": {},
     "output_type": "execute_result"
    }
   ],
   "source": [
    "type(mnist_data[2])"
   ]
  },
  {
   "cell_type": "code",
   "execution_count": 154,
   "id": "3e67cef9-6252-4abd-ae81-6bbc55c9eab9",
   "metadata": {},
   "outputs": [],
   "source": [
    "# mnist_data[2]"
   ]
  },
  {
   "cell_type": "code",
   "execution_count": 18,
   "id": "6102ef27-1cfb-4142-9f28-04f91e8d9f96",
   "metadata": {},
   "outputs": [
    {
     "data": {
      "text/plain": [
       "(28, 28)"
      ]
     },
     "execution_count": 18,
     "metadata": {},
     "output_type": "execute_result"
    }
   ],
   "source": [
    "mnist_data[2].shape"
   ]
  },
  {
   "cell_type": "code",
   "execution_count": 19,
   "id": "08c74a4b-f4d4-45ae-b97a-c647479ab58e",
   "metadata": {},
   "outputs": [
    {
     "data": {
      "text/plain": [
       "<function matplotlib.pyplot.show(close=None, block=None)>"
      ]
     },
     "execution_count": 19,
     "metadata": {},
     "output_type": "execute_result"
    },
    {
     "data": {
      "image/png": "[encoded data removed]",
      "text/plain": [
       "<Figure size 640x480 with 1 Axes>"
      ]
     },
     "metadata": {},
     "output_type": "display_data"
    }
   ],
   "source": [
    "plt.imshow(mnist_data[2])\n",
    "plt.show"
   ]
  },
  {
   "cell_type": "markdown",
   "id": "8b708187-640a-4fdf-93df-9d6d078a1355",
   "metadata": {},
   "source": [
    "### splitting data into train and test"
   ]
  },
  {
   "cell_type": "code",
   "execution_count": 20,
   "id": "10379f90-1970-43d8-8e76-c480dc4bbac0",
   "metadata": {},
   "outputs": [
    {
     "data": {
      "text/plain": [
       "(372451, 372451)"
      ]
     },
     "execution_count": 20,
     "metadata": {},
     "output_type": "execute_result"
    }
   ],
   "source": [
    "len(images),len(labels)"
   ]
  },
  {
   "cell_type": "code",
   "execution_count": 21,
   "id": "6c0a1c16-b9aa-48b0-9bce-d38a6b9269d0",
   "metadata": {},
   "outputs": [],
   "source": [
    "### to avoid same values of az and mnist data\n",
    "labels+=10"
   ]
  },
  {
   "cell_type": "code",
   "execution_count": 22,
   "id": "37b43220-57b9-4953-85d6-d6b49c863811",
   "metadata": {},
   "outputs": [
    {
     "data": {
      "text/plain": [
       "10"
      ]
     },
     "execution_count": 22,
     "metadata": {},
     "output_type": "execute_result"
    }
   ],
   "source": [
    "labels[1]"
   ]
  },
  {
   "cell_type": "code",
   "execution_count": 23,
   "id": "812d66dc-ea46-4a21-bd09-a0099db8c13e",
   "metadata": {},
   "outputs": [],
   "source": [
    "finalData=np.vstack([images,mnist_data])\n",
    "finalData=np.asarray([np.expand_dims(img,axis=0) for img in finalData])\n",
    "finalData=np.asarray([img.reshape((28,28,1)) for img in finalData])\n",
    "# finalData=finalData/255.0"
   ]
  },
  {
   "cell_type": "code",
   "execution_count": 24,
   "id": "b37eacb9-9c8a-4eab-b1d0-85f5c2dcfcee",
   "metadata": {},
   "outputs": [
    {
     "data": {
      "text/plain": [
       "numpy.ndarray"
      ]
     },
     "execution_count": 24,
     "metadata": {},
     "output_type": "execute_result"
    }
   ],
   "source": [
    "type(finalData)"
   ]
  },
  {
   "cell_type": "code",
   "execution_count": 25,
   "id": "557f4732-267a-4fb3-8fdc-cb59a744882d",
   "metadata": {},
   "outputs": [
    {
     "data": {
      "text/plain": [
       "(28, 28, 1)"
      ]
     },
     "execution_count": 25,
     "metadata": {},
     "output_type": "execute_result"
    }
   ],
   "source": [
    "finalData[0].shape"
   ]
  },
  {
   "cell_type": "code",
   "execution_count": 26,
   "id": "30c82ac9-3ad6-4f47-ac6e-b87a6ac61ed1",
   "metadata": {},
   "outputs": [
    {
     "data": {
      "text/plain": [
       "<function matplotlib.pyplot.show(close=None, block=None)>"
      ]
     },
     "execution_count": 26,
     "metadata": {},
     "output_type": "execute_result"
    },
    {
     "data": {
      "image/png": "[encoded data removed]",
      "text/plain": [
       "<Figure size 640x480 with 1 Axes>"
      ]
     },
     "metadata": {},
     "output_type": "display_data"
    }
   ],
   "source": [
    "plt.imshow(finalData[0])\n",
    "plt.show"
   ]
  },
  {
   "cell_type": "code",
   "execution_count": 370,
   "id": "86cda051-3297-4dee-93a2-d4cef2be0b1b",
   "metadata": {},
   "outputs": [],
   "source": [
    "finalLabels=np.hstack([labels,mnist_labels])"
   ]
  },
  {
   "cell_type": "code",
   "execution_count": 69,
   "id": "04e70dee-e1c8-44fa-a702-43394a650bfe",
   "metadata": {},
   "outputs": [
    {
     "data": {
      "text/plain": [
       "numpy.ndarray"
      ]
     },
     "execution_count": 69,
     "metadata": {},
     "output_type": "execute_result"
    }
   ],
   "source": [
    "type(finalLabels)"
   ]
  },
  {
   "cell_type": "code",
   "execution_count": 70,
   "id": "1dd84621-9440-4c9b-81b9-019b55a2427c",
   "metadata": {},
   "outputs": [
    {
     "data": {
      "text/plain": [
       "(442451,)"
      ]
     },
     "execution_count": 70,
     "metadata": {},
     "output_type": "execute_result"
    }
   ],
   "source": [
    "finalLabels.shape"
   ]
  },
  {
   "cell_type": "code",
   "execution_count": 71,
   "id": "a4831cb3-6dad-4beb-b102-30afd967feae",
   "metadata": {},
   "outputs": [
    {
     "data": {
      "text/plain": [
       "10"
      ]
     },
     "execution_count": 71,
     "metadata": {},
     "output_type": "execute_result"
    }
   ],
   "source": [
    "finalLabels[0]"
   ]
  },
  {
   "cell_type": "code",
   "execution_count": 72,
   "id": "326438c1-6e8e-41d0-ac4a-e268ca88106e",
   "metadata": {},
   "outputs": [
    {
     "data": {
      "text/plain": [
       "(442451, 442451)"
      ]
     },
     "execution_count": 72,
     "metadata": {},
     "output_type": "execute_result"
    }
   ],
   "source": [
    "len(finalData),len(finalLabels)"
   ]
  },
  {
   "cell_type": "code",
   "execution_count": 73,
   "id": "140ec1a7-c8ea-42fe-9cd0-678693f77779",
   "metadata": {},
   "outputs": [],
   "source": [
    "from sklearn.model_selection import train_test_split"
   ]
  },
  {
   "cell_type": "code",
   "execution_count": 198,
   "id": "8c983d8b-e480-4741-b8ad-3073c7dd6b20",
   "metadata": {},
   "outputs": [],
   "source": [
    "trainX,testX,trainY,testY=train_test_split(finalData,finalLabels,test_size=0.3,random_state=30,stratify=finalLabels)"
   ]
  },
  {
   "cell_type": "code",
   "execution_count": 199,
   "id": "e7e4e279-9b22-438d-a037-fd2427c801f3",
   "metadata": {},
   "outputs": [
    {
     "data": {
      "text/plain": [
       "(28, 28, 1)"
      ]
     },
     "execution_count": 199,
     "metadata": {},
     "output_type": "execute_result"
    }
   ],
   "source": [
    "trainX[0].shape"
   ]
  },
  {
   "cell_type": "code",
   "execution_count": 200,
   "id": "5fca5fdd-57cd-4a4f-a5bd-de8c38c09086",
   "metadata": {},
   "outputs": [
    {
     "data": {
      "text/plain": [
       "<function matplotlib.pyplot.show(close=None, block=None)>"
      ]
     },
     "execution_count": 200,
     "metadata": {},
     "output_type": "execute_result"
    },
    {
     "data": {
      "image/png": "[encoded data removed]",
      "text/plain": [
       "<Figure size 640x480 with 1 Axes>"
      ]
     },
     "metadata": {},
     "output_type": "display_data"
    }
   ],
   "source": [
    "plt.imshow(trainX[0])\n",
    "plt.show"
   ]
  },
  {
   "cell_type": "code",
   "execution_count": 202,
   "id": "b56aef69-d98a-4dd4-aee9-0f2ed5653841",
   "metadata": {},
   "outputs": [
    {
     "data": {
      "text/plain": [
       "(309715,)"
      ]
     },
     "execution_count": 202,
     "metadata": {},
     "output_type": "execute_result"
    }
   ],
   "source": [
    "trainY.shape"
   ]
  },
  {
   "cell_type": "code",
   "execution_count": 369,
   "id": "94f315f3-b8e0-4efd-83ac-26609ee28454",
   "metadata": {},
   "outputs": [],
   "source": [
    "def preprocess(img):\n",
    "    img=img/255.0\n",
    "    return img"
   ]
  },
  {
   "cell_type": "code",
   "execution_count": 203,
   "id": "57ffd670-40bc-4bc8-bf20-9a642c7a03ea",
   "metadata": {},
   "outputs": [],
   "source": [
    "trainX=tf.data.Dataset.from_tensor_slices(trainX)\n",
    "trainX=trainX.map(preprocess)\n",
    "testX=tf.data.Dataset.from_tensor_slices(testX)\n",
    "testX=testX.map(preprocess)\n",
    "trainY=tf.data.Dataset.from_tensor_slices(trainY)\n",
    "testY=tf.data.Dataset.from_tensor_slices(testY)"
   ]
  },
  {
   "cell_type": "code",
   "execution_count": 204,
   "id": "9c2572b2-2dcf-4c28-8da5-5b1c97233798",
   "metadata": {},
   "outputs": [
    {
     "data": {
      "text/plain": [
       "tensorflow.python.data.ops.map_op._MapDataset"
      ]
     },
     "execution_count": 204,
     "metadata": {},
     "output_type": "execute_result"
    }
   ],
   "source": [
    "type(trainX)"
   ]
  },
  {
   "cell_type": "code",
   "execution_count": 205,
   "id": "cece53f2-a153-4885-98c0-94763fcc1f27",
   "metadata": {},
   "outputs": [
    {
     "data": {
      "text/plain": [
       "(309715, 309715)"
      ]
     },
     "execution_count": 205,
     "metadata": {},
     "output_type": "execute_result"
    }
   ],
   "source": [
    "len(trainX),len(trainY)"
   ]
  },
  {
   "cell_type": "code",
   "execution_count": 206,
   "id": "ae205bb9-18aa-4d71-b688-5ccab49a1de5",
   "metadata": {},
   "outputs": [],
   "source": [
    "img=trainX.as_numpy_iterator()"
   ]
  },
  {
   "cell_type": "code",
   "execution_count": 207,
   "id": "d20d3a8a-d12c-4621-9e0c-08dda4e30579",
   "metadata": {},
   "outputs": [],
   "source": [
    "sample=img.next()"
   ]
  },
  {
   "cell_type": "code",
   "execution_count": 208,
   "id": "3dc0c7f1-3db3-495f-a926-a866b759ece3",
   "metadata": {},
   "outputs": [
    {
     "data": {
      "text/plain": [
       "(28, 28, 1)"
      ]
     },
     "execution_count": 208,
     "metadata": {},
     "output_type": "execute_result"
    }
   ],
   "source": [
    "sample.shape"
   ]
  },
  {
   "cell_type": "code",
   "execution_count": 209,
   "id": "487f11f7-84f5-475f-a95d-74571c173aa6",
   "metadata": {},
   "outputs": [
    {
     "data": {
      "text/plain": [
       "<function matplotlib.pyplot.show(close=None, block=None)>"
      ]
     },
     "execution_count": 209,
     "metadata": {},
     "output_type": "execute_result"
    },
    {
     "data": {
      "image/png": "[encoded data removed]",
      "text/plain": [
       "<Figure size 640x480 with 1 Axes>"
      ]
     },
     "metadata": {},
     "output_type": "display_data"
    }
   ],
   "source": [
    "plt.imshow(sample)\n",
    "plt.show"
   ]
  },
  {
   "cell_type": "markdown",
   "id": "5d287d98-b631-46c0-b205-9ac8cdd7113a",
   "metadata": {},
   "source": [
    "### creating final datasets"
   ]
  },
  {
   "cell_type": "code",
   "execution_count": 210,
   "id": "eeac1531-a614-4fe6-924c-7261f1b800f9",
   "metadata": {},
   "outputs": [
    {
     "data": {
      "text/plain": [
       "(309715, 309715, 132736, 132736)"
      ]
     },
     "execution_count": 210,
     "metadata": {},
     "output_type": "execute_result"
    }
   ],
   "source": [
    "len(trainX),len(trainY),len(testX),len(testY)"
   ]
  },
  {
   "cell_type": "code",
   "execution_count": 368,
   "id": "dcf77d06-bfdf-402b-a950-cc12ba905915",
   "metadata": {},
   "outputs": [],
   "source": [
    "train=tf.data.Dataset.zip((trainX,trainY))\n",
    "train=train.batch(128)\n",
    "train=train.prefetch(64)"
   ]
  },
  {
   "cell_type": "code",
   "execution_count": 367,
   "id": "6be91188-9ee4-4fbb-8cb7-d0335269f094",
   "metadata": {},
   "outputs": [],
   "source": [
    "test=tf.data.Dataset.zip((testX,testY))\n",
    "test=test.batch(128)\n",
    "test=test.prefetch(64)"
   ]
  },
  {
   "cell_type": "code",
   "execution_count": 265,
   "id": "2c9ad9b9-6b88-4020-8479-4881ad2c936c",
   "metadata": {},
   "outputs": [],
   "source": [
    "X_test,y_test=test.as_numpy_iterator().next()"
   ]
  },
  {
   "cell_type": "code",
   "execution_count": 266,
   "id": "69a4462f-4e26-43ea-90d5-c46047ef3a5c",
   "metadata": {},
   "outputs": [
    {
     "data": {
      "text/plain": [
       "(28, 28, 1)"
      ]
     },
     "execution_count": 266,
     "metadata": {},
     "output_type": "execute_result"
    }
   ],
   "source": [
    "X_test[0].shape"
   ]
  },
  {
   "cell_type": "code",
   "execution_count": 213,
   "id": "3464b9be-ae59-4f1d-96a8-3d207e0b091b",
   "metadata": {},
   "outputs": [
    {
     "data": {
      "text/plain": [
       "(128, 28, 28, 1)"
      ]
     },
     "execution_count": 213,
     "metadata": {},
     "output_type": "execute_result"
    }
   ],
   "source": [
    "train.as_numpy_iterator().next()[0].shape"
   ]
  },
  {
   "cell_type": "code",
   "execution_count": 214,
   "id": "38174a98-f913-4c56-a561-8f4384e83366",
   "metadata": {},
   "outputs": [],
   "source": [
    "X,y=train.as_numpy_iterator().next()"
   ]
  },
  {
   "cell_type": "code",
   "execution_count": 215,
   "id": "c6f1652f-33d8-467e-854d-52ee9ca2d112",
   "metadata": {},
   "outputs": [
    {
     "data": {
      "text/plain": [
       "(28, 28, 1)"
      ]
     },
     "execution_count": 215,
     "metadata": {},
     "output_type": "execute_result"
    }
   ],
   "source": [
    "X[0].shape"
   ]
  },
  {
   "cell_type": "code",
   "execution_count": 216,
   "id": "a92318a5-b8b1-4d5c-acbd-91aafe3f2abb",
   "metadata": {},
   "outputs": [
    {
     "data": {
      "text/plain": [
       "<function matplotlib.pyplot.show(close=None, block=None)>"
      ]
     },
     "execution_count": 216,
     "metadata": {},
     "output_type": "execute_result"
    },
    {
     "data": {
      "image/png": "[encoded data removed]",
      "text/plain": [
       "<Figure size 640x480 with 1 Axes>"
      ]
     },
     "metadata": {},
     "output_type": "display_data"
    }
   ],
   "source": [
    "plt.imshow(X[0])\n",
    "plt.show"
   ]
  },
  {
   "cell_type": "code",
   "execution_count": 218,
   "id": "c62f3464-c6e2-410a-b833-d0ae10c77239",
   "metadata": {},
   "outputs": [
    {
     "data": {
      "text/plain": [
       "(128,)"
      ]
     },
     "execution_count": 218,
     "metadata": {},
     "output_type": "execute_result"
    }
   ],
   "source": [
    "y.shape"
   ]
  },
  {
   "cell_type": "markdown",
   "id": "2931d0c3-f0c1-42a1-963d-1e297541c14f",
   "metadata": {},
   "source": [
    "### training"
   ]
  },
  {
   "cell_type": "code",
   "execution_count": 127,
   "id": "d50d0a5e-5df2-4d42-a092-6da68d2314f1",
   "metadata": {},
   "outputs": [],
   "source": [
    "import tensorflow as tf\n",
    "from tensorflow.keras.layers import Conv2D, Input,Dense,MaxPooling2D,Flatten\n",
    "from tensorflow.keras.models import Model"
   ]
  },
  {
   "cell_type": "code",
   "execution_count": 366,
   "id": "676bebd3-3a46-4295-a65a-0e33e01db8c8",
   "metadata": {},
   "outputs": [],
   "source": [
    "def build_model():\n",
    "    input_layer=Input(shape=(28,28,1))\n",
    "    \n",
    "    c1=Conv2D(64,kernel_size=(10,10),activation=\"relu\",name=\"c1\")(input_layer)\n",
    "    m1=MaxPooling2D(16,(2,2),padding=\"same\",name=\"m\")(c1)\n",
    "    \n",
    "    c2=Conv2D(64,kernel_size=(4,4),activation=\"relu\",name=\"c3\")(m1)\n",
    "    m2=MaxPooling2D(16,(2,2),padding=\"same\",name=\"m2\")(c2)\n",
    "    \n",
    "    c3=Conv2D(32,kernel_size=(4,4),activation=\"relu\",name=\"c4\")(m2)\n",
    "    \n",
    "    f1=Flatten()(c3)\n",
    "    d1=Dense(2048,activation=\"relu\")(f1)\n",
    "    d2=Dense(36,activation=\"softmax\")(d1)\n",
    "    \n",
    "    return Model(inputs=input_layer,outputs=[d2])"
   ]
  },
  {
   "cell_type": "code",
   "execution_count": 294,
   "id": "3da841e2-9428-44b9-8c90-123df8e2bcb1",
   "metadata": {},
   "outputs": [],
   "source": [
    "model_ocr=build_model()"
   ]
  },
  {
   "cell_type": "code",
   "execution_count": 295,
   "id": "dc9a1ea2-d753-4532-931a-498cbcfb6c5b",
   "metadata": {},
   "outputs": [
    {
     "name": "stdout",
     "output_type": "stream",
     "text": [
      "Model: \"model_16\"\n",
      "_________________________________________________________________\n",
      " Layer (type)                Output Shape              Param #   \n",
      "=================================================================\n",
      " input_27 (InputLayer)       [(None, 28, 28, 1)]       0         \n",
      "                                                                 \n",
      " c1 (Conv2D)                 (None, 19, 19, 64)        6464      \n",
      "                                                                 \n",
      " m (MaxPooling2D)            (None, 10, 10, 64)        0         \n",
      "                                                                 \n",
      " c3 (Conv2D)                 (None, 7, 7, 64)          65600     \n",
      "                                                                 \n",
      " m2 (MaxPooling2D)           (None, 4, 4, 64)          0         \n",
      "                                                                 \n",
      " c4 (Conv2D)                 (None, 1, 1, 32)          32800     \n",
      "                                                                 \n",
      " flatten_16 (Flatten)        (None, 32)                0         \n",
      "                                                                 \n",
      " dense_32 (Dense)            (None, 2048)              67584     \n",
      "                                                                 \n",
      " dense_33 (Dense)            (None, 36)                73764     \n",
      "                                                                 \n",
      "=================================================================\n",
      "Total params: 246,212\n",
      "Trainable params: 246,212\n",
      "Non-trainable params: 0\n",
      "_________________________________________________________________\n"
     ]
    }
   ],
   "source": [
    "model_ocr.summary()"
   ]
  },
  {
   "cell_type": "markdown",
   "id": "fb5fc682-0555-42bf-8788-7482ad226446",
   "metadata": {},
   "source": [
    "### define losses and opt"
   ]
  },
  {
   "cell_type": "code",
   "execution_count": 280,
   "id": "bce9ecd9-d90e-4539-811f-15f39a944439",
   "metadata": {},
   "outputs": [],
   "source": [
    "class_loss=tf.keras.losses.SparseCategoricalCrossentropy()\n",
    "opt=tf.keras.optimizers.Adam()"
   ]
  },
  {
   "cell_type": "markdown",
   "id": "585017f7-47f0-403c-91de-b58ff7e7b05a",
   "metadata": {},
   "source": [
    "### custom model class"
   ]
  },
  {
   "cell_type": "code",
   "execution_count": 296,
   "id": "d1abab21-ee15-4ee9-a138-c940a6336d73",
   "metadata": {},
   "outputs": [],
   "source": [
    "class OCR(Model):\n",
    "    def __init__(self,model_ocr,**kwargs):\n",
    "        super().__init__(**kwargs)\n",
    "        self.model=model_ocr\n",
    "    \n",
    "    def compile(self,opt,class_loss,**kwargs):\n",
    "        super().compile(**kwargs)\n",
    "        self.classLoss=class_loss\n",
    "        self.opt=opt\n",
    "    \n",
    "    def train_step(self,batch,**kwargs):\n",
    "        X,y=batch\n",
    "        # y=y.reshape((128,1))\n",
    "        \n",
    "        with tf.GradientTape() as tape:\n",
    "            classes=self.model(X,training=True)\n",
    "            \n",
    "            batch_classloss=self.classLoss(y,classes)\n",
    "            \n",
    "            grad=tape.gradient(batch_classloss,self.model.trainable_variables)\n",
    "        opt.apply_gradients(zip(grad,self.model.trainable_variables))\n",
    "        return {\"loss\":batch_classloss}\n",
    "    \n",
    "    def test_step(self,batch,**kwargs):\n",
    "        X,y=batch\n",
    "        # y=y.reshape((83,1))\n",
    "        \n",
    "        classes=self.model(X,training=False)\n",
    "        batch_classloss=self.classLoss(y,classes)\n",
    "        \n",
    "        return {\"loss\":batch_classloss}\n",
    "    \n",
    "    def call(self,X,**kwargs):\n",
    "        return self.model(X,**kwargs)"
   ]
  },
  {
   "cell_type": "code",
   "execution_count": 297,
   "id": "de4d5c79-a875-4cbf-91d6-01cdbb4037cb",
   "metadata": {},
   "outputs": [],
   "source": [
    "model=OCR(model_ocr)"
   ]
  },
  {
   "cell_type": "code",
   "execution_count": 298,
   "id": "7293bea1-0560-4ada-be5e-08bf156f96bd",
   "metadata": {},
   "outputs": [],
   "source": [
    "model.compile(opt,class_loss)"
   ]
  },
  {
   "cell_type": "code",
   "execution_count": 305,
   "id": "f4dfd35b-5f0a-48c4-8ce2-4c7cffb8ad5f",
   "metadata": {},
   "outputs": [
    {
     "name": "stdout",
     "output_type": "stream",
     "text": [
      "Epoch 1/7\n",
      "2420/2420 [==============================] - 565s 234ms/step - loss: 0.0865 - val_loss: 0.1257\n",
      "Epoch 2/7\n",
      "2420/2420 [==============================] - 551s 228ms/step - loss: 0.0845 - val_loss: 0.1269\n",
      "Epoch 3/7\n",
      "2420/2420 [==============================] - 547s 226ms/step - loss: 0.0842 - val_loss: 0.1416\n",
      "Epoch 4/7\n",
      "2420/2420 [==============================] - 549s 227ms/step - loss: 0.0796 - val_loss: 0.1268\n",
      "Epoch 5/7\n",
      "2420/2420 [==============================] - 550s 227ms/step - loss: 0.0800 - val_loss: 0.1146\n",
      "Epoch 6/7\n",
      "2420/2420 [==============================] - 547s 226ms/step - loss: 0.0781 - val_loss: 0.1932\n",
      "Epoch 7/7\n",
      "2420/2420 [==============================] - 550s 227ms/step - loss: 0.0743 - val_loss: 0.2254\n"
     ]
    }
   ],
   "source": [
    "hist=model.fit(train,validation_data=test,epochs=7)"
   ]
  },
  {
   "cell_type": "markdown",
   "id": "87900cd4-f8c8-4143-8425-04dd7ab9cf39",
   "metadata": {},
   "source": [
    "### plotting the losses"
   ]
  },
  {
   "cell_type": "code",
   "execution_count": 301,
   "id": "251fafeb-ca14-472f-9e97-1a0a4cc954f6",
   "metadata": {},
   "outputs": [],
   "source": [
    "from tensorflow.keras.models import load_model"
   ]
  },
  {
   "cell_type": "code",
   "execution_count": 313,
   "id": "c030214a-a390-4546-8f75-1872baa156ac",
   "metadata": {},
   "outputs": [
    {
     "name": "stdout",
     "output_type": "stream",
     "text": [
      "WARNING:tensorflow:Compiled the loaded model, but the compiled metrics have yet to be built. `model.compile_metrics` will be empty until you train or evaluate the model.\n"
     ]
    }
   ],
   "source": [
    "model_ocr.save(\"ocr_model.h5\")"
   ]
  },
  {
   "cell_type": "code",
   "execution_count": 309,
   "id": "4854d75b-a68e-431c-a65f-a5913211205c",
   "metadata": {},
   "outputs": [
    {
     "data": {
      "image/png": "[encoded data removed]",
      "text/plain": [
       "<Figure size 640x480 with 1 Axes>"
      ]
     },
     "metadata": {},
     "output_type": "display_data"
    }
   ],
   "source": [
    "epochs=range(1,8)\n",
    "plt.plot(epochs,hist.history[\"loss\"],label=\"train_loss\")\n",
    "plt.plot(epochs,hist.history[\"val_loss\"],label=\"val_loss\")\n",
    "plt.xlabel('Epochs')\n",
    "plt.ylabel('Loss')\n",
    "plt.legend()\n",
    "plt.show()"
   ]
  },
  {
   "cell_type": "code",
   "execution_count": 314,
   "id": "645a07fd-7e72-48a1-a8f5-f56ef1ad3e14",
   "metadata": {},
   "outputs": [
    {
     "name": "stdout",
     "output_type": "stream",
     "text": [
      "WARNING:tensorflow:No training configuration found in the save file, so the model was *not* compiled. Compile it manually.\n"
     ]
    }
   ],
   "source": [
    "model=load_model(\"ocr_model.h5\")"
   ]
  },
  {
   "cell_type": "code",
   "execution_count": 349,
   "id": "dd74ce7f-c884-4e9f-a22e-e597bd1b6972",
   "metadata": {},
   "outputs": [],
   "source": [
    "X_test,y_test=test.as_numpy_iterator().next()"
   ]
  },
  {
   "cell_type": "code",
   "execution_count": 351,
   "id": "70c91a4e-5b0f-460f-9523-eba31094f043",
   "metadata": {},
   "outputs": [
    {
     "data": {
      "text/plain": [
       "(128, 28, 28, 1)"
      ]
     },
     "execution_count": 351,
     "metadata": {},
     "output_type": "execute_result"
    }
   ],
   "source": [
    "X_test.shape"
   ]
  },
  {
   "cell_type": "code",
   "execution_count": 352,
   "id": "f6f05c07-70e2-478c-8848-149806367067",
   "metadata": {},
   "outputs": [
    {
     "name": "stdout",
     "output_type": "stream",
     "text": [
      "4/4 [==============================] - 0s 31ms/step\n"
     ]
    }
   ],
   "source": [
    "preds=model.predict(X_test)"
   ]
  },
  {
   "cell_type": "code",
   "execution_count": 360,
   "id": "a0d4cd27-43e5-4d14-80de-58565d471a72",
   "metadata": {},
   "outputs": [
    {
     "data": {
      "text/plain": [
       "array([[3.35540450e-28, 8.53445612e-30, 2.36913510e-32, ...,\n",
       "        1.62330186e-31, 3.84785214e-15, 8.19640485e-36],\n",
       "       [7.83720487e-14, 6.92847735e-08, 9.26594357e-10, ...,\n",
       "        1.45474033e-13, 6.99884732e-15, 4.30846157e-11],\n",
       "       [9.99999404e-01, 5.03464220e-14, 1.15903465e-09, ...,\n",
       "        1.38283293e-30, 9.88573308e-20, 6.59360398e-30],\n",
       "       ...,\n",
       "       [1.51853716e-15, 1.55933296e-18, 3.93802359e-28, ...,\n",
       "        5.96435390e-23, 1.35573868e-18, 2.83485317e-19],\n",
       "       [5.53852586e-26, 6.78844319e-22, 9.99735451e-17, ...,\n",
       "        5.59157227e-20, 3.62594611e-12, 1.76518110e-12],\n",
       "       [4.01580799e-03, 4.55477808e-11, 1.03360785e-10, ...,\n",
       "        7.37576724e-15, 2.37556904e-07, 8.64768326e-12]], dtype=float32)"
      ]
     },
     "execution_count": 360,
     "metadata": {},
     "output_type": "execute_result"
    }
   ],
   "source": [
    "preds"
   ]
  },
  {
   "cell_type": "code",
   "execution_count": 317,
   "id": "b4a80ab0-bb90-46fe-a0a1-ebc344382c18",
   "metadata": {},
   "outputs": [],
   "source": [
    "results=preds.argmax(axis=1)"
   ]
  },
  {
   "cell_type": "code",
   "execution_count": 359,
   "id": "906d8e42-09dd-438b-898a-91511e15107a",
   "metadata": {},
   "outputs": [],
   "source": [
    "# results[0],y_test[0]"
   ]
  },
  {
   "cell_type": "code",
   "execution_count": 364,
   "id": "1c1d5bdc-28aa-46bc-8be3-bf735c63f27b",
   "metadata": {},
   "outputs": [],
   "source": [
    "from sklearn.metrics import classification_report"
   ]
  },
  {
   "cell_type": "code",
   "execution_count": 365,
   "id": "a7a59173-7f53-41fc-8789-a2afc7bb8682",
   "metadata": {},
   "outputs": [
    {
     "name": "stdout",
     "output_type": "stream",
     "text": [
      "              precision    recall  f1-score   support\n",
      "\n",
      "           0       1.00      1.00      1.00         3\n",
      "           1       1.00      1.00      1.00         1\n",
      "           2       1.00      1.00      1.00         1\n",
      "           3       1.00      1.00      1.00         2\n",
      "           5       1.00      1.00      1.00         5\n",
      "           6       1.00      1.00      1.00         2\n",
      "           8       1.00      1.00      1.00         3\n",
      "           9       1.00      1.00      1.00         2\n",
      "          10       1.00      1.00      1.00         3\n",
      "          11       1.00      1.00      1.00         3\n",
      "          12       1.00      0.78      0.88         9\n",
      "          13       1.00      1.00      1.00         2\n",
      "          14       1.00      1.00      1.00         1\n",
      "          16       1.00      1.00      1.00         2\n",
      "          17       1.00      1.00      1.00         1\n",
      "          19       0.50      1.00      0.67         1\n",
      "          20       1.00      1.00      1.00         1\n",
      "          21       0.89      1.00      0.94         8\n",
      "          22       1.00      1.00      1.00         2\n",
      "          23       1.00      1.00      1.00         5\n",
      "          24       1.00      1.00      1.00        15\n",
      "          25       1.00      0.88      0.93         8\n",
      "          26       0.50      1.00      0.67         1\n",
      "          27       1.00      1.00      1.00         8\n",
      "          28       1.00      1.00      1.00        12\n",
      "          29       1.00      1.00      1.00         4\n",
      "          30       0.90      0.90      0.90        10\n",
      "          31       1.00      1.00      1.00         1\n",
      "          32       1.00      1.00      1.00         6\n",
      "          33       1.00      1.00      1.00         2\n",
      "          34       1.00      1.00      1.00         2\n",
      "          35       1.00      1.00      1.00         2\n",
      "\n",
      "    accuracy                           0.97       128\n",
      "   macro avg       0.96      0.99      0.97       128\n",
      "weighted avg       0.98      0.97      0.97       128\n",
      "\n"
     ]
    }
   ],
   "source": [
    "print(classification_report(y_test,preds.argmax(axis=1)))"
   ]
  },
  {
   "cell_type": "code",
   "execution_count": null,
   "id": "7db4d0a8-2db4-4881-8ced-f68e4d3bd32c",
   "metadata": {},
   "outputs": [],
   "source": []
  }
 ],
 "metadata": {
  "kernelspec": {
   "display_name": "Python 3 (ipykernel)",
   "language": "python",
   "name": "python3"
  },
  "language_info": {
   "codemirror_mode": {
    "name": "ipython",
    "version": 3
   },
   "file_extension": ".py",
   "mimetype": "text/x-python",
   "name": "python",
   "nbconvert_exporter": "python",
   "pygments_lexer": "ipython3",
   "version": "3.10.8"
  }
 },
 "nbformat": 4,
 "nbformat_minor": 5
}
