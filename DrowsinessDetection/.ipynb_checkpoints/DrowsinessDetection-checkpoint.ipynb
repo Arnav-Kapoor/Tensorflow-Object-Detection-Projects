{
 "cells": [
  {
   "cell_type": "code",
   "execution_count": null,
   "id": "06cbc2eb-205a-4ecc-b56d-db7641c2d3e0",
   "metadata": {},
   "outputs": [],
   "source": [
    "import cv2\n",
    "import os\n",
    "import uuid\n",
    "import time"
   ]
  },
  {
   "cell_type": "markdown",
   "id": "e8016553-651a-4f26-bee8-fe85b8725f14",
   "metadata": {},
   "source": [
    "### image collection"
   ]
  },
  {
   "cell_type": "code",
   "execution_count": null,
   "id": "164991ed-006e-40ed-a71e-98e7e7b1f5b6",
   "metadata": {},
   "outputs": [],
   "source": [
    "IMAGE_PATH=\"/data/images\""
   ]
  },
  {
   "cell_type": "code",
   "execution_count": null,
   "id": "32d0f6dc-26d5-475e-8125-8a39c79eceec",
   "metadata": {},
   "outputs": [],
   "source": [
    "labels=[\"awake\",\"drowsy\"]\n",
    "number_imgs=20"
   ]
  },
  {
   "cell_type": "code",
   "execution_count": null,
   "id": "bc4741c0-0e5b-4922-a897-f23c34edef42",
   "metadata": {},
   "outputs": [],
   "source": [
    "for label in labels:\n",
    "    cap=cv2.VideoCapture(0)\n",
    "    print(\"Collecting images for {}\".format(label))\n",
    "    time.sleep(5) #5 secods break before starting\n",
    "    for imgnum in range(number_imgs):\n",
    "        print(\"Collecting imgs {}\".format(imgnum))\n",
    "        ret,frame=cap.read()\n",
    "        imgname=os.path.join(IMAGE_PATH,label,label+'.'+'{}.jpg'.format(str(uuid.uuid1())))\n",
    "        cv2.imwrite(imgname,frame)\n",
    "        cv2.imshow('frame',frame)\n",
    "        time.sleep(2)\n",
    "        \n",
    "        if cv2.waitKey(1) & 0xFF==ord('q'):\n",
    "            break\n",
    "cap.release()\n",
    "cv2.destroyAllWindows()"
   ]
  },
  {
   "cell_type": "code",
   "execution_count": null,
   "id": "12eeb426-dba4-4c9d-b82c-aea7ab54fee4",
   "metadata": {},
   "outputs": [],
   "source": [
    "PRETRAINED_MODEL_PATH=\"../tensorflow/pretrained_models\"\n",
    "PRETRAINED_MODEL_NAME=\"ssd_mobilenet_v2_fpnlite_640x640_coco17_tpu-8\"\n",
    "PRETRAINED_MODEL_URL=\"http://download.tensorflow.org/models/object_detection/tf2/20200711/ssd_mobilenet_v2_fpnlite_640x640_coco17_tpu-8.tar.gz\""
   ]
  },
  {
   "cell_type": "code",
   "execution_count": null,
   "id": "847224a6-cb1a-4555-93ef-53087a39bf0e",
   "metadata": {},
   "outputs": [],
   "source": [
    "# pip install wget"
   ]
  },
  {
   "cell_type": "markdown",
   "id": "fbc8e1d4-1b3f-47ac-a3ab-602aa4650ceb",
   "metadata": {},
   "source": [
    "#### download object_detection"
   ]
  },
  {
   "cell_type": "code",
   "execution_count": null,
   "id": "de690d1b-9b36-4c3c-a056-715194d7b8e2",
   "metadata": {},
   "outputs": [],
   "source": [
    "!git clone https://github.com/tensorflow/models {\"../tensorflow/models\"}"
   ]
  },
  {
   "cell_type": "markdown",
   "id": "1c85c74f-464b-4b32-b3b8-9df4d3e26d17",
   "metadata": {},
   "source": [
    "#### downloading pretrained model"
   ]
  },
  {
   "cell_type": "code",
   "execution_count": null,
   "id": "a92b9b94-b1b9-4a25-b165-0ad096b7a9b7",
   "metadata": {},
   "outputs": [],
   "source": [
    "import wget\n",
    "wget.download(PRETRAINED_MODEL_URL)\n",
    "!move {PRETRAINED_MODEL_NAME+'.tar.gz'} {PRETRAINED_MODEL_PATH} \n",
    "!cd {PRETRAINED_MODEL_PATH} && tar -zxvf {PRETRAINED_MODEL_NAME+'.tar.gz'}"
   ]
  },
  {
   "cell_type": "code",
   "execution_count": null,
   "id": "40df17b1-0b22-4304-8926-42668672d974",
   "metadata": {},
   "outputs": [],
   "source": [
    "# pip install --upgrade protobuf --user"
   ]
  },
  {
   "cell_type": "code",
   "execution_count": null,
   "id": "fa969d3e-b6cf-4a1a-8bfb-a8f2236c6bcf",
   "metadata": {},
   "outputs": [],
   "source": [
    "# pip install --upgrade object_detection --user"
   ]
  },
  {
   "cell_type": "markdown",
   "id": "a4cf7b0d-a9f0-42df-b458-1c36a34ccf60",
   "metadata": {},
   "source": [
    "### creating label map"
   ]
  },
  {
   "cell_type": "code",
   "execution_count": null,
   "id": "1fe91d78-c5da-40d0-a720-a67c3941bcfa",
   "metadata": {},
   "outputs": [],
   "source": [
    "labels=[{'name':'awake','id':1},{'name':'drowsy','id':2}]\n",
    "\n",
    "with open('../tensorflow/annotations/labelmap.pbtxt','w') as f:\n",
    "    for label in labels:\n",
    "        f.write('item{\\n')\n",
    "        f.write('\\tname:\\'{}\\'\\n'.format(label['name']))\n",
    "        f.write('\\tid:\\'{}\\'\\n'.format(label['id']))\n",
    "        f.write('}\\n')\n"
   ]
  },
  {
   "cell_type": "markdown",
   "id": "d5b366f4-4aeb-4f5c-b30f-a1bd3e0edfe8",
   "metadata": {},
   "source": [
    "### creating tfrecords"
   ]
  },
  {
   "cell_type": "code",
   "execution_count": null,
   "id": "e3bdb7f2-5e78-4201-bbe3-aa9c539b68ac",
   "metadata": {},
   "outputs": [],
   "source": [
    "!git clone https://github.com/nicknochnack/GenerateTFRecord {\"../tensorflow/scripts\"}"
   ]
  },
  {
   "cell_type": "code",
   "execution_count": null,
   "id": "6646a396-e47a-4286-9f14-0a9b6836e446",
   "metadata": {},
   "outputs": [],
   "source": [
    "!python {\"../tensorflow/scripts/generate_tfrecord.py\"} -l=\"../tensorflow/annotations/labelmap.pbtxt\" -x=\"./data/train\" -o=\"../tensorflow/annotations/train.record\"\n",
    "!python {\"../tensorflow/scripts/generate_tfrecord.py\"} -l=\"../tensorflow/annotations/labelmap.pbtxt\" -x=\"./data/test\" -o=\"../tensorflow/annotations/test.record\""
   ]
  },
  {
   "cell_type": "code",
   "execution_count": null,
   "id": "32e4eb70-a7e1-454f-8643-ebf94a9cf26c",
   "metadata": {},
   "outputs": [],
   "source": [
    "# pip install --upgrade tensorflow --user"
   ]
  },
  {
   "cell_type": "markdown",
   "id": "85af96c9-3124-4899-a213-c857e8031490",
   "metadata": {},
   "source": [
    "### configuring config file"
   ]
  },
  {
   "cell_type": "code",
   "execution_count": null,
   "id": "3f542be7-2ecc-4a94-9308-06f118c4a54d",
   "metadata": {},
   "outputs": [],
   "source": [
    "import tensorflow as tf\n",
    "from object_detection.utils import config_util\n",
    "from object_detection.protos import pipeline_pb2\n",
    "from google.protobuf import text_format"
   ]
  },
  {
   "cell_type": "code",
   "execution_count": null,
   "id": "34ae5c50-62ff-4db2-88be-f39ff990380f",
   "metadata": {},
   "outputs": [],
   "source": [
    "config = config_util.get_configs_from_pipeline_file(\"../tensorflow/custom_models/ssd_mobilenet/pipeline.config\")"
   ]
  },
  {
   "cell_type": "code",
   "execution_count": null,
   "id": "17a01cdf-c1cd-4b31-a963-981c12406e10",
   "metadata": {},
   "outputs": [],
   "source": [
    "pipeline_config = pipeline_pb2.TrainEvalPipelineConfig()\n",
    "with tf.io.gfile.GFile(\"../tensorflow/custom_models/ssd_mobilenet/pipeline.config\", \"r\") as f:                                                                                                                                                                                                                     \n",
    "    proto_str = f.read()                                                                                                                                                                                                                                          \n",
    "    text_format.Merge(proto_str, pipeline_config)  "
   ]
  },
  {
   "cell_type": "code",
   "execution_count": null,
   "id": "fbe69596-17e9-492d-b4a3-43272348073d",
   "metadata": {},
   "outputs": [],
   "source": [
    "\n",
    "pipeline_config.model.ssd.num_classes = len(labels)\n",
    "pipeline_config.train_config.batch_size = 32\n",
    "pipeline_config.train_config.fine_tune_checkpoint = os.path.join(PRETRAINED_MODEL_PATH, PRETRAINED_MODEL_NAME, 'checkpoint', 'ckpt-0')\n",
    "pipeline_config.train_config.fine_tune_checkpoint_type = \"detection\"\n",
    "pipeline_config.train_input_reader.label_map_path=\"../tensorflow/annotations/labelmap.pbtxt\"\n",
    "pipeline_config.train_input_reader.tf_record_input_reader.input_path[:] = [os.path.join(\"../tensorflow/annotations\", 'train.record')]\n",
    "pipeline_config.eval_input_reader[0].label_map_path = \"../tensorflow/annotations/labelmap.pbtxt\"\n",
    "pipeline_config.eval_input_reader[0].tf_record_input_reader.input_path[:] = [os.path.join(\"../tensorflow/annotations\", 'test.record')]"
   ]
  },
  {
   "cell_type": "code",
   "execution_count": null,
   "id": "f26b7778-5561-4955-b8be-4f0aa9a94861",
   "metadata": {},
   "outputs": [],
   "source": [
    "config_text = text_format.MessageToString(pipeline_config)                                                                                                                                                                                                        \n",
    "with tf.io.gfile.GFile(\"../tensorflow/custom_models/ssd_mobilenet/pipeline.config\", \"wb\") as f:                                                                                                                                                                                                                     \n",
    "    f.write(config_text)   "
   ]
  },
  {
   "cell_type": "markdown",
   "id": "b2cc6c3c-7bf3-4ebf-a307-6a83e612b3ce",
   "metadata": {},
   "source": [
    "#### verification"
   ]
  },
  {
   "cell_type": "code",
   "execution_count": null,
   "id": "2e6d192e-3096-4efa-be47-dfe0afa637ed",
   "metadata": {},
   "outputs": [],
   "source": [
    "VERIFICATION_SCRIPT =  \"../tensorflow/models/models/research/object_detection/builders/model_builder_tf2_test.py\"\n",
    "#verify installation\n",
    "!python {VERIFICATION_SCRIPT}"
   ]
  },
  {
   "cell_type": "markdown",
   "id": "a120dcc8-c7d7-4401-b2f0-1d120b2ee4d5",
   "metadata": {},
   "source": [
    "### train the model"
   ]
  },
  {
   "cell_type": "code",
   "execution_count": null,
   "id": "6d7016fa-f363-4c9d-b30d-d30a31f7248b",
   "metadata": {},
   "outputs": [],
   "source": [
    "!python \"../tensorflow/models/models/research/object_detection/model_main_tf2.py\" --model_dir=\"../tensorflow/custom_models/ssd_mobilenet\" --pipeline_config_path=\"../tensorflow/custom_models/ssd_mobilenet/pipeline.config\" --num_train_steps=1000 verbose=True"
   ]
  },
  {
   "cell_type": "markdown",
   "id": "e970ee1d-9ab2-42e1-817b-eff6cb8ce261",
   "metadata": {},
   "source": [
    "### evaluate model"
   ]
  },
  {
   "cell_type": "code",
   "execution_count": null,
   "id": "ae6f790e-dd10-4c71-9529-b7e9286085a3",
   "metadata": {},
   "outputs": [],
   "source": [
    "!python \"../tensorflow/models/models/research/object_detection/model_main_tf2.py\" --model_dir=\"./tensorflow/custom_models/ssd_mobilenet\" --pipeline_config_path=\"../tensorflow/custom_models/ssd_mobilenet/pipeline.config\" --checkpoint_dir=\"../tensorflow/custom_models/ssd_mobilenet\" "
   ]
  },
  {
   "cell_type": "markdown",
   "id": "84be21ae-205b-45b3-a643-d77b5ece21df",
   "metadata": {},
   "source": [
    "### loading the model"
   ]
  },
  {
   "cell_type": "code",
   "execution_count": null,
   "id": "0eac9032-d9de-40ae-ad95-7b61d1ce2563",
   "metadata": {},
   "outputs": [],
   "source": [
    "import tensorflow as tf\n",
    "from object_detection.utils import label_map_util\n",
    "from object_detection.utils import visualization_utils as viz_utils\n",
    "from object_detection.builders import model_builder\n",
    "from object_detection.utils  import config_util"
   ]
  },
  {
   "cell_type": "code",
   "execution_count": null,
   "id": "b1da8c8e-af66-4624-82f6-059c79979275",
   "metadata": {},
   "outputs": [],
   "source": [
    "#load pipeline config and build a detection model\n",
    "\n",
    "configs=config_util.get_configs_from_pipeline_file(\"../tensorflow/custom_models/ssd_mobilenet/pipeline.config\")\n",
    "detection_model=model_builder.build(model_config=configs['model'],is_training=False)\n",
    "\n",
    "#restore checkpoint\n",
    "ckpt=tf.compat.v2.train.Checkpoint(model=detection_model)\n",
    "ckpt.restore(os.path.join(\"../tensorflow/custom_models/ssd_mobilenet\",'ckpt-3')).assert_existing_objects_matched()\n",
    "ckpt.restore(os.path.join(\"../tensorflow/custom_models/ssd_mobilenet\",'ckpt-3')).expect_partial()"
   ]
  },
  {
   "cell_type": "code",
   "execution_count": null,
   "id": "c0e79dc0-2a67-42ca-9264-f2eeff50d4e5",
   "metadata": {},
   "outputs": [],
   "source": [
    "def detect_fn(image):\n",
    "    image,shapes=detection_model.preprocess(image)\n",
    "    prediction_dict=detection_model.predict(image,shapes)\n",
    "    detections=detection_model.postprocess(prediction_dict,shapes)\n",
    "    return detections"
   ]
  },
  {
   "cell_type": "code",
   "execution_count": null,
   "id": "b5d910f5-bc13-423c-87f5-2a2d475862ae",
   "metadata": {},
   "outputs": [],
   "source": [
    "import numpy as np\n",
    "import matplotlib.pyplot as plt\n",
    "%matplotlib inline"
   ]
  },
  {
   "cell_type": "code",
   "execution_count": null,
   "id": "9692cb35-b9af-44bd-9979-241870975159",
   "metadata": {},
   "outputs": [],
   "source": [
    "category_index=label_map_util.create_categories_from_labelmap(\"../tensorflow/annotations/labelmap.pbtxt\")\n",
    "category_index = {cat['id']: cat for cat in category_index} #converting list to dictionary"
   ]
  },
  {
   "cell_type": "code",
   "execution_count": null,
   "id": "3ba6e011-db90-4776-9875-fa9a9835b292",
   "metadata": {},
   "outputs": [],
   "source": [
    "img=cv2.imread(\"./data/test/awake.eadb4448-151e-11ee-a70d-900f0c7ffb34.jpg\")\n",
    "image_np=np.array(img)\n",
    "input_tensor=tf.convert_to_tensor(np.expand_dims(image_np,0),dtype=tf.float32)\n",
    "detections=detect_fn(input_tensor)\n",
    "\n",
    "num_detections=int(detections.pop('num_detections'))\n",
    "detections={key:value[0,:num_detections].numpy()\n",
    "           for key,value in detections.items()}\n",
    "detections['num_detections']=num_detections\n",
    "\n",
    "#detection_classes should be ints\n",
    "detections['detection_classes']=detections['detection_classes'].astype(np.int64)\n",
    "\n",
    "label_id_offset = 1\n",
    "image_np_with_detections = image_np.copy()\n",
    "\n",
    "viz_utils.visualize_boxes_and_labels_on_image_array(\n",
    "            image_np_with_detections,\n",
    "            detections['detection_boxes'],\n",
    "            detections['detection_classes']+label_id_offset,\n",
    "            detections['detection_scores'],\n",
    "            category_index,\n",
    "            use_normalized_coordinates=True,\n",
    "            max_boxes_to_draw=5,\n",
    "            min_score_thresh=.8,\n",
    "            agnostic_mode=False)\n",
    "\n",
    "plt.imshow(cv2.cvtColor(image_np_with_detections, cv2.COLOR_BGR2RGB))\n",
    "plt.show()"
   ]
  },
  {
   "cell_type": "markdown",
   "id": "8333db3f-ee0d-4518-b01c-14d6822b0699",
   "metadata": {},
   "source": [
    "### realtime detection"
   ]
  },
  {
   "cell_type": "code",
   "execution_count": null,
   "id": "b4fabd91-65a1-4d9b-a927-ee4d4d970e89",
   "metadata": {},
   "outputs": [],
   "source": [
    "cap=cv2.VideoCapture(0)\n",
    "\n",
    "while cap.isOpened():\n",
    "    ret,frame=cap.read()\n",
    "    image_np=np.array(frame)\n",
    "    \n",
    "    input_tensor=tf.convert_to_tensor(np.expand_dims(image_np,0),dtype=tf.float32)\n",
    "    detections=detect_fn(input_tensor)\n",
    "\n",
    "    num_detections=int(detections.pop('num_detections'))\n",
    "    detections={key:value[0,:num_detections].numpy()\n",
    "               for key,value in detections.items()}\n",
    "    detections['num_detections']=num_detections\n",
    "\n",
    "    #detection_classes should be ints\n",
    "    detections['detection_classes']=detections['detection_classes'].astype(np.int64)\n",
    "\n",
    "    label_id_offset = 1\n",
    "    image_np_with_detections = image_np.copy()\n",
    "\n",
    "    viz_utils.visualize_boxes_and_labels_on_image_array(\n",
    "                image_np_with_detections,\n",
    "                detections['detection_boxes'],\n",
    "                detections['detection_classes']+label_id_offset,\n",
    "                detections['detection_scores'],\n",
    "                category_index,\n",
    "                use_normalized_coordinates=True,\n",
    "                max_boxes_to_draw=5,\n",
    "                min_score_thresh=.8,\n",
    "                agnostic_mode=False)\n",
    "\n",
    "    cv2.imshow('object_detection',cv2.resize(image_np_with_detections,(800,600)))\n",
    "    \n",
    "    if cv2.waitKey(1) & 0xFF==ord('q'):\n",
    "        cap.release()\n",
    "        cv2.destroyAllWindows()\n",
    "        break"
   ]
  },
  {
   "cell_type": "markdown",
   "id": "b7d78fba-3372-4623-bbf5-e7da66ca9239",
   "metadata": {},
   "source": [
    "### saving the model"
   ]
  },
  {
   "cell_type": "code",
   "execution_count": null,
   "id": "66e568a0-30a2-48df-84e6-231043bb3139",
   "metadata": {},
   "outputs": [],
   "source": [
    "!python \"../tensorflow/models/models/research/object_detection/exporter_main_v2.py\" --input_type=image_tensor --pipeline_config_path=\"../tensorflow/custom_models/ssd_mobilenet/pipeline.config\" --trained_checkpoint_dir=\"../tensorflow/custom_models/ssd_mobilenet\" --output_directory=\"./export\" "
   ]
  },
  {
   "cell_type": "code",
   "execution_count": null,
   "id": "0bfce9e5-f9fe-4c81-93f9-bb45e633cfd2",
   "metadata": {
    "tags": []
   },
   "outputs": [],
   "source": []
  }
 ],
 "metadata": {
  "kernelspec": {
   "display_name": "tfod",
   "language": "python",
   "name": "tfod"
  },
  "language_info": {
   "codemirror_mode": {
    "name": "ipython",
    "version": 3
   },
   "file_extension": ".py",
   "mimetype": "text/x-python",
   "name": "python",
   "nbconvert_exporter": "python",
   "pygments_lexer": "ipython3",
   "version": "3.10.8"
  }
 },
 "nbformat": 4,
 "nbformat_minor": 5
}
